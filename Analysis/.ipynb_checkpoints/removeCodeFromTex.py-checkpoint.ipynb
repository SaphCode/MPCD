{
 "cells": [
  {
   "cell_type": "code",
   "execution_count": 56,
   "metadata": {},
   "outputs": [],
   "source": [
    "path = \"./Generated/thesis.md\"\n",
    "with open(path, \"r\") as f:\n",
    "    lines = f.readlines()\n",
    "    idx = []\n",
    "    for i, line in enumerate(lines):\n",
    "        if (line.startswith(\"```\")):\n",
    "            idx.append(i)\n",
    "       # if (line.startswith(\"```\")):\n",
    "        #    idx.append(i)\n",
    "            \n",
    "idx = sorted(idx, reverse=True) # reverse order so not deleting lines and then missing others\n",
    "for current, previous in zip(idx[::2], idx[1::2]):\n",
    "    print(\"Deleting {p}:{c}\".format(p=previous, c=current+1))\n",
    "    print('\\n'.join(lines[previous:current+1]))\n",
    "    del lines[previous:current]\n",
    "    \n",
    "with open(path, \"w\") as f:\n",
    "    for line in lines:\n",
    "        f.write(\"%s\\n\" % line)\n",
    "        "
   ]
  },
  {
   "cell_type": "code",
   "execution_count": 62,
   "metadata": {},
   "outputs": [
    {
     "name": "stdout",
     "output_type": "stream",
     "text": [
      "![png](thesis_files/thesis_24_0.png)\n",
      "\n",
      "7\n",
      "![png](./thesis_files/thesis_24_0.png)\n",
      "\n",
      "![png](thesis_files/thesis_29_0.png)\n",
      "\n",
      "7\n",
      "![png](./thesis_files/thesis_29_0.png)\n",
      "\n"
     ]
    }
   ],
   "source": [
    "path = \"./Generated/thesis.md\"\n",
    "with open(path, \"r\") as f:\n",
    "    lines = f.readlines()\n",
    "    idx = []\n",
    "    idx_files = []\n",
    "    for i, line in enumerate(lines):\n",
    "        if (line.startswith(\"```\")):\n",
    "            idx.append(i)\n",
    "        if (\"thesis_files\" in line):\n",
    "            c = line.find(\"thesis_files\")\n",
    "            print(line)\n",
    "            print(c)\n",
    "            lines[i] = line[0:c] + \"./\" + line[c:]\n",
    "            print(lines[i])\n",
    "            \n",
    "            "
   ]
  },
  {
   "cell_type": "code",
   "execution_count": 48,
   "metadata": {},
   "outputs": [
    {
     "name": "stdout",
     "output_type": "stream",
     "text": [
      "yes\n"
     ]
    }
   ],
   "source": [
    "if \"```\" == \"```\":\n",
    "    print(\"yes\")"
   ]
  },
  {
   "cell_type": "code",
   "execution_count": null,
   "metadata": {},
   "outputs": [],
   "source": []
  }
 ],
 "metadata": {
  "kernelspec": {
   "display_name": "Python 3",
   "language": "python",
   "name": "python3"
  },
  "language_info": {
   "codemirror_mode": {
    "name": "ipython",
    "version": 3
   },
   "file_extension": ".py",
   "mimetype": "text/x-python",
   "name": "python",
   "nbconvert_exporter": "python",
   "pygments_lexer": "ipython3",
   "version": "3.8.3"
  }
 },
 "nbformat": 4,
 "nbformat_minor": 4
}
