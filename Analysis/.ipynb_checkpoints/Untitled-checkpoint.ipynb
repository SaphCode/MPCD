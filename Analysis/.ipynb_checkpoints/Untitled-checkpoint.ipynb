{
 "cells": [
  {
   "cell_type": "code",
   "execution_count": null,
   "metadata": {},
   "outputs": [],
   "source": [
    "import numpy as np\n",
    "import matplotlib.pyplot as plt\n",
    "from math import floor\n",
    "import math\n",
    "import pandas as pd\n",
    "import glob\n",
    "import numpy as np\n",
    "import matplotlib.pyplot as plt\n",
    "import matplotlib.gridspec as gridspec\n",
    "import seaborn as sns\n",
    "import os.path\n",
    "\n",
    "# TODO CELL VELOCITIES\n",
    "# TODO INSPECT THE MONOMERS; WRITE MONOMER CODE"
   ]
  },
  {
   "cell_type": "markdown",
   "metadata": {},
   "source": [
    "# Setup"
   ]
  },
  {
   "cell_type": "code",
   "execution_count": null,
   "metadata": {},
   "outputs": [],
   "source": [
    "with_obstacles = False\n",
    "\n",
    "\n",
    "\n",
    "data_from = ''\n",
    "path = \"Data/\" + data_from\n",
    "\n",
    "csv = \".csv\"\n",
    "\n",
    "def getConstants(config):\n",
    "    name = 'constants.csv'\n",
    "    constants = pd.read_csv(\"Data/\" + config + name)\n",
    "    out = {}\n",
    "    out['avg'] = int(constants['average_particles_per_cell'])\n",
    "    #out['t'] = int(constants['timesteps'])\n",
    "    out['delta_t'] = float(constants['time_lapse'])\n",
    "    out['a'] = int(constants['cell_dim'])\n",
    "    out['w'] = int(constants['width'])\n",
    "    out['h'] = int(constants['height'])\n",
    "    out['num_particles'] = int(constants['total_number_of_particles'])\n",
    "    out['m'] = int(constants['particle_mass'])\n",
    "    out['k_BT'] = float(constants['k_BT'])\n",
    "    out['g'] = float(constants['g'])\n",
    "    return out\n",
    "\n",
    "constants = getConstants(data_from)\n",
    "x_dim = constants['w']\n",
    "y_dim = constants['h']"
   ]
  },
  {
   "cell_type": "markdown",
   "metadata": {},
   "source": [
    "# Load Stuff"
   ]
  },
  {
   "cell_type": "code",
   "execution_count": null,
   "metadata": {},
   "outputs": [],
   "source": [
    "def load_monomers(path, constants):\n",
    "    monomers_t = []\n",
    "\n",
    "    # Loading particles\n",
    "    print('Loading Monomers ..')\n",
    "    filenames_monomers = glob.glob('{}*.csv'.format(path))\n",
    "    for it, file in enumerate(filenames_monomers):\n",
    "        monomers_t.append(pd.read_csv(file))\n",
    "        if (it % 500 == 0):\n",
    "            print('--loaded {}'.format(it))\n",
    "    print('Monomers loaded and saved!\\n')\n",
    "    # Monomers loaded\n",
    "    return monomers_t\n",
    "\n",
    "\n",
    "def load_particles(path):\n",
    "    num_timesteps = len(monomers_t)\n",
    "\n",
    "    # Loading particles\n",
    "    print('Loading particles ..')\n",
    "    filenames_particles = glob.glob('{}*.csv'.format(path))\n",
    "    particles_t = []\n",
    "    for file in filenames_particles:\n",
    "        num = int(file.split('timestep')[1].replace(\".csv\", \"\"))\n",
    "        if (num > num_timesteps - stationary):\n",
    "            particles_t.append(pd.read_csv(file))\n",
    "            if (num % 500 == 0):\n",
    "                print('--loaded {}'.format(num))\n",
    "    print('Particles loaded!\\n')# and saved\n",
    "    # Particles loaded\n",
    "    \n",
    "    return particles_t\n",
    "\n",
    "\n",
    "\n",
    "def load_cells(path, columns, shown_rows, shown_cols):\n",
    "    print('Loading cells')\n",
    "    cells_timesteps = []\n",
    "\n",
    "    filenames_cells = glob.glob('{}*.csv'.format(path))\n",
    "    for it, file in enumerate(filenames_cells):\n",
    "        if it > num_timesteps - stationary:\n",
    "            df = pd.read_csv(file)\n",
    "            cells_timesteps.append(df)\n",
    "            if (it % 500 == 0):\n",
    "                print('--loaded {}'.format(it))\n",
    "        it += 1\n",
    "    print('Cells loaded and saved!\\n')\n",
    "    # Cells loaded\n",
    "    return cells_timesteps\n",
    "    \n",
    "\n",
    "monomers_t = load_monomers(path + f'monomers_av{constants[\"avg\"]}', constants)\n",
    "particles_t = load_particles(f'Data/particles_av{constants[\"avg\"]}')\n",
    "cells_path = path + 'cells_av{}'.format(constants['avg'])\n",
    "cells_timesteps = load_cells(cells_path, columns, shown_rows, shown_cols)\n",
    "I,J,U,V,pivots = prepare_cells(cells_timesteps, columns, shown_rows, shown_cols)"
   ]
  }
 ],
 "metadata": {
  "kernelspec": {
   "display_name": "Python 3",
   "language": "python",
   "name": "python3"
  },
  "language_info": {
   "codemirror_mode": {
    "name": "ipython",
    "version": 3
   },
   "file_extension": ".py",
   "mimetype": "text/x-python",
   "name": "python",
   "nbconvert_exporter": "python",
   "pygments_lexer": "ipython3",
   "version": "3.8.5"
  }
 },
 "nbformat": 4,
 "nbformat_minor": 4
}
