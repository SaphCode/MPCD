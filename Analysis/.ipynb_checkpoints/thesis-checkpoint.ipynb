{
 "cells": [
  {
   "cell_type": "code",
   "execution_count": 1,
   "metadata": {},
   "outputs": [],
   "source": [
    "import seaborn as sns\n",
    "import pandas as pd\n",
    "import matplotlib.pyplot as plt\n",
    "import numpy as np\n",
    "import math"
   ]
  },
  {
   "cell_type": "code",
   "execution_count": 2,
   "metadata": {},
   "outputs": [
    {
     "data": {
      "text/latex": [
       "\\newcommand{\\matr}[1]\\textbf{#1}\n",
       "\\newcommand{\\vect}[1]{\\vec{#1}}\n",
       "\\usepackage[table,xcdraw]{xcolor}\n"
      ],
      "text/plain": [
       "<IPython.core.display.Latex object>"
      ]
     },
     "metadata": {},
     "output_type": "display_data"
    }
   ],
   "source": [
    "%%latex\n",
    "\\newcommand{\\matr}[1]\\textbf{#1}\n",
    "\\newcommand{\\vect}[1]{\\vec{#1}}\n",
    "\\usepackage[table,xcdraw]{xcolor}"
   ]
  },
  {
   "cell_type": "markdown",
   "metadata": {},
   "source": [
    "# To my dear supervisors"
   ]
  },
  {
   "cell_type": "markdown",
   "metadata": {},
   "source": []
  },
  {
   "cell_type": "markdown",
   "metadata": {},
   "source": [
    "# MPCD simulation of polymers in solution"
   ]
  },
  {
   "cell_type": "markdown",
   "metadata": {},
   "source": [
    "This notebook will serve as the documentation of our efforts and results for my Bachelor's Thesis. The goal of this thesis will be the study of short/long-chained polymers in a liquid thats flowing around obstacles. The liquid will be simulated with MPCD, or \"Multi Particle Collision Dynamics\".\n",
    "\n",
    "I chose the language C++ for its familiar object-oriented nature and its proven execution-time. Output of the simulation will mostly be analysed in Python, specifically with Jupyter Notebook for a blend of beautiful visualizations and convenience. For simplification, the situation will be studied in 2D. The situation we specifically discussed is shown below."
   ]
  },
  {
   "cell_type": "markdown",
   "metadata": {},
   "source": [
    "![Situation](Assets/MPCD_Situation.png)"
   ]
  },
  {
   "cell_type": "markdown",
   "metadata": {},
   "source": [
    "# Discussed questions"
   ]
  },
  {
   "cell_type": "markdown",
   "metadata": {},
   "source": [
    "Are there other people I can contact for the programming/implementation details? - _Max Liebetreu, Andreas Zöddl_\n",
    "\n",
    "How do I model the obstacles?, the walls? = the same? Many particles, large molecules? circles? - _Stick boundary conditions: velocity gets flipped when colliding. Also: virtual particles for cell partially filled by wall._\n",
    "\n",
    "How should I initialize the velocities? How large can they be without distorting the simulation? - _Maxwell Boltzmann with 2/2 k_B T (2D)_\n",
    "\n",
    "If particles drift too far out of bounds, should they be destroyed, and should then new ones be created to keep the number constant? In other words, should there be a particle source? - _Yes. The situation is now fixed from 100 - 400 : 20 - 50 aspect ratio. When particles go out of those bounds, they are destroyed and created in the same location on the other side. This means that it loops around._\n",
    "\n",
    "How can I test if my simulation is right? See if some parameter can be tuned to one of an experiment? How should we go about this? - _See if we get parabolic velocity profile for the 2d situation. Also check conservation of energy._\n",
    "\n",
    "Will we go to 3D? - _For the Bachelor's, we will keep it 2D._\n",
    "\n",
    "How large can the timestep be? - _The timestep will be a function of the other parameters mass = 1, Temperature = 1, ..?_"
   ]
  },
  {
   "cell_type": "markdown",
   "metadata": {},
   "source": [
    "# Open Questions"
   ]
  },
  {
   "cell_type": "markdown",
   "metadata": {},
   "source": [
    "On what order should $D >> d$ be (see above) 100:1? 10:1? 1000:1? - _Still open._\n",
    "\n",
    "What fluid do we simulate? What is the density? Any special properties? - _Still open._\n",
    "\n",
    "_Implement Grid shift, or find a way to shift particles and walls. Because if you shift the particles, some of them can end up in walls, which must not happen. So either move walls + particles + obstacles or shift grid._\n",
    "\n",
    "When the grid is shifted, some particles will go out of bounds. Should they already be \"looped around\"?, or should they collide with other ones that happened to go out of bounds, and then be shifted back? If they are looped around, should they go back to their original position after the collision? - _Still open._"
   ]
  },
  {
   "cell_type": "markdown",
   "metadata": {},
   "source": [
    "# Next Steps"
   ]
  },
  {
   "cell_type": "markdown",
   "metadata": {},
   "source": [
    "1. Check the conservation of energy, momentum, do the grid shift or the wall + particles + obstacles shift.\n",
    "2. Constant Force that pull the particles in +x direction\n",
    "3. Gamma cell level Thermostat\n",
    "4. Implement Wall logic, check if we get a parabolic flow profile.\n",
    "5. Implement obstacle logic.\n",
    "6. Polymers MD?"
   ]
  },
  {
   "cell_type": "markdown",
   "metadata": {},
   "source": [
    "# Introduction"
   ]
  },
  {
   "cell_type": "markdown",
   "metadata": {},
   "source": [
    "Multiparticle collision dynamics (MPCD), also known as Stochastic Rotation Dynamics (SRD)[@winkl2009] is a technique originally introduced to study the dynamics of complex fluids such as polymers in solution. Besides MPCD, there exist other mesoscopic models that have been constructed for this purpose, such as Langevin, Direct Simulation Monte Carlo and lattice Boltzmann methods.[@malev1999] We only concern ourselves with the application of MPCD, it follows that any comparison between methods are out of the scope of this thesis.\n",
    "\n",
    "The MPCD technique models the fluid using particles, their positions and velocities are treated as continuous variables. The system is divided up into cells that have no restriction on the number of particles, each of the cells is part of a regular lattice. The dynamics is split into two parts: Particle streaming and multiparticle collision dynamics. Particle streaming is treated exactly for each particle in the system, while the collision step is approximated on a cell level. The multiparticle collision dynamics conserves mass, momentum and energy and leads to the correct hydrodynamical equations.[@malev1999] The streaming and collision step are described in more detail in (TODO: section numbering)."
   ]
  },
  {
   "cell_type": "markdown",
   "metadata": {},
   "source": [
    "# The MPCD algorithm"
   ]
  },
  {
   "cell_type": "markdown",
   "metadata": {},
   "source": [
    "The system we are modelling consists of $N$ particles with mass $m$, continuous position $\\vec{r_{i}}$ and velocity $\\vec{v_{i}}$, where $i \\in \\{1, 2, \\dots, N\\}$. One timestep $\\Delta t$ shall correspond to having calculated all the new particle positions and velocities in the streaming and collision steps, respectively. For each of the $N$ particles, the streaming and collision steps are applied, and this pattern is repeated until the wanted number of timesteps have elapsed."
   ]
  },
  {
   "cell_type": "markdown",
   "metadata": {},
   "source": [
    "## The streaming step"
   ]
  },
  {
   "cell_type": "markdown",
   "metadata": {},
   "source": [
    "The streaming step is very straightforward. The particle positions are simply updated according to\n",
    "\n",
    "\\begin{equation}\n",
    "\\vect{r_{i}} \\rightarrow \\vect{r_{i}} + \\Delta t \\cdot \\vect{v_{i}}\\textrm{,}\n",
    "\\end{equation}\n",
    "\n",
    "where $\\Delta t$ is a small time interval.[@winkl2009][@malev1999]"
   ]
  },
  {
   "cell_type": "markdown",
   "metadata": {},
   "source": [
    "## The collision step"
   ]
  },
  {
   "cell_type": "markdown",
   "metadata": {},
   "source": [
    "The collision step is somewhat more complicated. It involves the mean velocity of all particles in a particular cell, $\\vect{V_c}$, the velocity of the particle $i$, $\\vec{v_i}$, and a rotation matrix $\\matr{R}(\\alpha)$. The vector $\\vect{v_i}$ is rotated relative to the mean velocity $\\vect{V_c}$ of all particles in cell $c$, cell $c$ being the cell which particle $i$ belongs to. It is shown in [@malev1999] that the rule,\n",
    "\n",
    "\\begin{equation}\n",
    "\\vect{v_i} \\rightarrow \\vect{V_c} + \\matr{R}(\\alpha) [\\vect{v_i} - \\vect{V_c}] \\textrm{,}\n",
    "\\end{equation}\n",
    "\n",
    "conserves mass, momentum and energy under the molecular chaos assumption[@malev1999][@winkl2009, molecular chaos, p.7]. The rotation matrix $\\matr{R}(\\alpha)$ is a simple 2d rotation matrix\n",
    "\n",
    "\\begin{equation}\n",
    "R(\\alpha) = \n",
    "\\left[ \\begin{array}{rr}\n",
    "cos(\\alpha) & -sin(\\alpha) \\\\\n",
    "sin(\\alpha) & cos(\\alpha) \\\\\n",
    "\\end{array}\\right],\n",
    "\\end{equation}\n",
    "\n",
    "where $\\alpha$ is sampled randomly on a per-cell basis. Furthermore, for each particle in the cell $\\alpha$ flips its sign with probability $\\frac{1}{2}$.[@winkl2009, (p.6)]\n",
    "The mean velocity of a cell is defined as\n",
    "\n",
    "\\begin{equation}\n",
    "\\vect{V_c} = \\frac{1}{N_c} \\sum_{i=1}^{N_c} \\vect{v_i} \\textrm{,}\n",
    "\\end{equation}\n",
    "\n",
    "where $N_c$ is the number of particles in cell c.[@malev1999]\n",
    "\n",
    "The original MPCD algorithm was not Galilean invariant. The problem lay in the \"molecular chaos\" assumption, which means that particles involved in a collision have no memory of earlier encounters when colliding. This assumption is problematic when the mean free path \n",
    "\n",
    "\\begin{equation}\n",
    "\\lambda = \\Delta t \\sqrt{\\frac{k_{B}T}{m}}\n",
    "\\end{equation}\n",
    "\n",
    "is small compared to the cell size $a$, since the same particles collide with each other repeatedly and thus build up correlations. When $\\lambda \\gg a$ Ihle and Kroll have shown that the molecular chaos assumption holds and the simulated results deviate from experimental ones only negligibly.[@ihlekroll2001, p.2][@winkl2009]\n",
    "\n",
    "The solution to this problem is to shift all particles by the same random vector $s$ before the collision step. The components of $s$ are sampled randomly from a uniform distribution in the interval $[-\\frac{a}{2}, \\frac{a}{2}]$. After the collision, the particles are shifted back by the same amount.[@ihlekroll2001]"
   ]
  },
  {
   "cell_type": "markdown",
   "metadata": {},
   "source": [
    "# Additions to the MPCD Algorithm"
   ]
  },
  {
   "cell_type": "markdown",
   "metadata": {},
   "source": [
    "## Constant Force"
   ]
  },
  {
   "cell_type": "markdown",
   "metadata": {},
   "source": [
    "## Thermostat"
   ]
  },
  {
   "cell_type": "markdown",
   "metadata": {},
   "source": [
    "## Anything else maybe ??"
   ]
  },
  {
   "cell_type": "markdown",
   "metadata": {},
   "source": [
    "# Implementing the MPCD Algorithm"
   ]
  },
  {
   "cell_type": "markdown",
   "metadata": {},
   "source": [
    "## (Pseudo) Random Number Generation"
   ]
  },
  {
   "cell_type": "markdown",
   "metadata": {},
   "source": [
    "### Sampling from uniform distribution"
   ]
  },
  {
   "cell_type": "markdown",
   "metadata": {},
   "source": [
    "One of the pillars of this thesis is the generation of random rotation angles for the rotation matrix needed in the collision step. This proved to be somewhat difficult. First, the standard algorithm of the C++ standard library was tried, but it didn't qualify because it performed poorly in comparison to the second and third algorithms tried, which are called \"Mersenne Twister\" and \"xoshiro256++\", respectively.[@wiki:mersennetwister][@cppreference:prng][@unimi:xoshiro]\n",
    "\n",
    "The Mersenne Twister was implemented using the C++ standard library. The xoshiro256++ was implemented using Sebastian Vigna's code with some additions.[@unimi:xoshiro]\n",
    "\n",
    "To compare algorithms, and also to make sure that the implementation of the xoshiro256++ is right, a $\\chi^2$ test for discrete observations was used. The generated angles in the interval $[0, 2\\pi)$ were split into $k+1$ buckets, where $k$ is the number of degrees of freedom of the $\\chi^2$ distribution. The test error\n",
    "\n",
    "\\begin{equation}\n",
    "T = \\sum_{b=1}^{k+1}{\\frac{(N_o - E[N_b])^2}{E[N_b]}},\n",
    "\\end{equation}\n",
    "\n",
    "where $E[N_b] = \\frac{N}{b}, b \\in \\{1, 2, \\dots , k+1\\}$ is the expected bucket size, is compared to $\\chi^2_{1-\\alpha, k}$, where $\\alpha$ is the signifigance level. The null hypothesis\n",
    "\n",
    "$$\n",
    "H_0: \\textrm{The angles are distributed uniformly in the interval } [0, 2 \\pi)\n",
    "$$\n",
    "\n",
    "is tested against the alternative hypothesis\n",
    "\n",
    "$$\n",
    "H_1: \\textrm{The angles are not distributed uniformly in the interval } [0, 2 \\pi) \\textrm{.}\n",
    "$$\n",
    "\n",
    "If the test should have significance level $\\alpha$, $H_0$ is rejected if $T \\ge \\chi^2_{1-\\alpha, k}$.[@fruehwirthstat][@wiki:chisquaredtest][@wiki:goodnessoffit]\n",
    "\n",
    "The results of the $\\chi^2$ test are summarised in [TODO: Table, and table formatting]."
   ]
  },
  {
   "cell_type": "code",
   "execution_count": 3,
   "metadata": {},
   "outputs": [],
   "source": [
    "path = \"../x64/Debug/Data/RNG/\"\n",
    "mersenne = \"mersenne_twister_chi2.csv\"\n",
    "xoshiro = \"xoshiro_chi2.csv\"\n",
    "index = [\"k\", \"chi^2 probability\"]\n",
    "out_path = \"Generated/\"\n",
    "new_name = \"chi2_results_dirty.csv\"\n",
    "mersenne_twister_chi2 = pd.read_csv(path + mersenne).set_index(index)\n",
    "xoshiro256plusplus_chi2 = pd.read_csv(path + xoshiro).set_index(index)\n",
    "results = mersenne_twister_chi2.join(xoshiro256plusplus_chi2, on = index, how = \"inner\")\n",
    "results_csv = results.to_csv(out_path + new_name)"
   ]
  },
  {
   "cell_type": "code",
   "execution_count": 4,
   "metadata": {},
   "outputs": [
    {
     "data": {
      "text/latex": [
       "\\begin{table}[]\n",
       "\\begin{tabular}{llll}\n",
       "\\rowcolor[HTML]{4472C4} \n",
       "{\\color[HTML]{FFF} \\textbf{k}} & {\\color[HTML]{FFF} \\textbf{chi\\textasciicircum{}2   probability}} & {\\color[HTML]{FFF} \\textbf{observed   MT}} & {\\color[HTML]{FFF} \\textbf{observed XS256++}} \\\\\n",
       "\\rowcolor[HTML]{D9E1F2} \n",
       "1                              & 5.991                                                             & 0.292                                      & 0.068                                         \\\\\n",
       "2                              & 7.815                                                             & 1.626                                      & 3.682                                         \\\\\n",
       "\\rowcolor[HTML]{D9E1F2} \n",
       "3                              & 9.488                                                             & 3.735                                      & 2.124                                         \\\\\n",
       "4                              & 11.07                                                             & 4.255                                      & 4.525                                         \\\\\n",
       "\\rowcolor[HTML]{D9E1F2} \n",
       "5                              & 12.592                                                            & 2.86                                       & 6.345                                         \\\\\n",
       "6                              & 14.067                                                            & 4.071                                      & 6.377                                         \\\\\n",
       "\\rowcolor[HTML]{D9E1F2} \n",
       "7                              & 15.507                                                            & 8.662                                      & 11.731                                        \\\\\n",
       "8                              & 16.919                                                            & 14.426                                     & 8.693                                         \\\\\n",
       "\\rowcolor[HTML]{D9E1F2} \n",
       "9                              & 18.307                                                            & 11.732                                     & 6.932                                         \\\\\n",
       "10                             & 19.675                                                            & 9.857                                      & 5.939                                         \\\\\n",
       "\\rowcolor[HTML]{D9E1F2} \n",
       "11                             & 21.026                                                            & 10.438                                     & 11.73                                         \\\\\n",
       "12                             & 22.362                                                            & 10.985                                     & 15.543                                        \\\\\n",
       "\\rowcolor[HTML]{D9E1F2} \n",
       "13                             & 23.685                                                            & 22.603                                     & 12.022                                        \\\\\n",
       "14                             & 24.996                                                            & 13.988                                     & 12.923                                        \\\\\n",
       "\\rowcolor[HTML]{D9E1F2} \n",
       "15                             & 26.296                                                            & 15.526                                     & 20.71                                         \\\\\n",
       "16                             & 27.587                                                            & 16.288                                     & 11.501                                        \\\\\n",
       "\\rowcolor[HTML]{D9E1F2} \n",
       "17                             & 28.869                                                            & \\cellcolor[HTML]{F8CBAD}32.26              & 12.478                                        \\\\\n",
       "18                             & 30.144                                                            & \\cellcolor[HTML]{F8CBAD}31.787             & 13.882                                       \n",
       "\\end{tabular}\n",
       "\\end{table}\n"
      ],
      "text/plain": [
       "<IPython.core.display.Latex object>"
      ]
     },
     "metadata": {},
     "output_type": "display_data"
    }
   ],
   "source": [
    "%%latex\n",
    "\\begin{table}[]\n",
    "\\begin{tabular}{llll}\n",
    "\\rowcolor[HTML]{4472C4} \n",
    "{\\color[HTML]{FFF} \\textbf{k}} & {\\color[HTML]{FFF} \\textbf{chi\\textasciicircum{}2   probability}} & {\\color[HTML]{FFF} \\textbf{observed   MT}} & {\\color[HTML]{FFF} \\textbf{observed XS256++}} \\\\\n",
    "\\rowcolor[HTML]{D9E1F2} \n",
    "1                              & 5.991                                                             & 0.292                                      & 0.068                                         \\\\\n",
    "2                              & 7.815                                                             & 1.626                                      & 3.682                                         \\\\\n",
    "\\rowcolor[HTML]{D9E1F2} \n",
    "3                              & 9.488                                                             & 3.735                                      & 2.124                                         \\\\\n",
    "4                              & 11.07                                                             & 4.255                                      & 4.525                                         \\\\\n",
    "\\rowcolor[HTML]{D9E1F2} \n",
    "5                              & 12.592                                                            & 2.86                                       & 6.345                                         \\\\\n",
    "6                              & 14.067                                                            & 4.071                                      & 6.377                                         \\\\\n",
    "\\rowcolor[HTML]{D9E1F2} \n",
    "7                              & 15.507                                                            & 8.662                                      & 11.731                                        \\\\\n",
    "8                              & 16.919                                                            & 14.426                                     & 8.693                                         \\\\\n",
    "\\rowcolor[HTML]{D9E1F2} \n",
    "9                              & 18.307                                                            & 11.732                                     & 6.932                                         \\\\\n",
    "10                             & 19.675                                                            & 9.857                                      & 5.939                                         \\\\\n",
    "\\rowcolor[HTML]{D9E1F2} \n",
    "11                             & 21.026                                                            & 10.438                                     & 11.73                                         \\\\\n",
    "12                             & 22.362                                                            & 10.985                                     & 15.543                                        \\\\\n",
    "\\rowcolor[HTML]{D9E1F2} \n",
    "13                             & 23.685                                                            & 22.603                                     & 12.022                                        \\\\\n",
    "14                             & 24.996                                                            & 13.988                                     & 12.923                                        \\\\\n",
    "\\rowcolor[HTML]{D9E1F2} \n",
    "15                             & 26.296                                                            & 15.526                                     & 20.71                                         \\\\\n",
    "16                             & 27.587                                                            & 16.288                                     & 11.501                                        \\\\\n",
    "\\rowcolor[HTML]{D9E1F2} \n",
    "17                             & 28.869                                                            & \\cellcolor[HTML]{F8CBAD}32.26              & 12.478                                        \\\\\n",
    "18                             & 30.144                                                            & \\cellcolor[HTML]{F8CBAD}31.787             & 13.882                                       \n",
    "\\end{tabular}\n",
    "\\end{table}"
   ]
  },
  {
   "cell_type": "markdown",
   "metadata": {},
   "source": [
    "As we can see, both generators pass the $\\chi^2$ test and we do not have to reject our null hypothesis $H_0$."
   ]
  },
  {
   "cell_type": "markdown",
   "metadata": {},
   "source": [
    "Visually, we can examine the generated buckets of both random generators in [TODO] the following plot. "
   ]
  },
  {
   "cell_type": "code",
   "execution_count": 5,
   "metadata": {},
   "outputs": [],
   "source": [
    "mers = \"mersenne_\"\n",
    "xoshiro = \"xoshiro_\"\n",
    "csv = \".csv\"\n",
    "angle = \"alpha\"\n",
    "name_angles = \"angles\"\n",
    "\n",
    "mers_random_angle = pd.read_csv(path + mers + name_angles + csv)\n",
    "angle_mers = mers_random_angle[angle]\n",
    "xs_random_angle = pd.read_csv(path + xoshiro + name_angles + csv)\n",
    "angle_xs = xs_random_angle[angle]\n",
    "\n",
    "with sns.plotting_context(sns.set()):\n",
    "    x_size_per_plot = 7\n",
    "    y_size_per_plot = 4\n",
    "    rows = 4\n",
    "    cols = 2\n",
    "    \n",
    "    fig, axes = plt.subplots(nrows=rows, ncols=cols, figsize=(x_size_per_plot * cols, y_size_per_plot * rows))\n",
    "    cols = [\"Mersenne Twister\", \"xoshiro256++\"]\n",
    "    for ax, col in zip(axes[0], cols):\n",
    "        ax.annotate(col, xy=(0.5, 1), xytext=(0, 10),\n",
    "                    textcoords='offset points', xycoords='axes fraction',\n",
    "                    size='24', ha='center', va='baseline')\n",
    "\n",
    "    axes[0,0].set_xlabel(\"5 buckets\")\n",
    "    axes[0,0].set_ylabel(\"frequency of angle\")\n",
    "    axes[0,0].hist(x=angle_mers,bins = 5)\n",
    "\n",
    "    axes[0,1].set_xlabel(\"5 buckets\")\n",
    "    axes[0,1].hist(x=angle_xs, bins = 5)\n",
    "\n",
    "    axes[1,0].set_xlabel(\"10 buckets\")\n",
    "    axes[1,0].set_ylabel(\"frequency of angle\")\n",
    "    axes[1,0].hist(x=angle_mers,bins = 10)\n",
    "\n",
    "    axes[1,1].set_xlabel(\"10 buckets\")\n",
    "    axes[1,1].hist(x=angle_xs, bins = 10)\n",
    "\n",
    "    axes[2,0].set_xlabel(\"50 buckets\")\n",
    "    axes[2,0].set_ylabel(\"frequency of angle\")\n",
    "    axes[2,0].hist(x=angle_mers,bins = 50)\n",
    "\n",
    "    axes[2,1].set_xlabel(\"50 buckets\")\n",
    "    axes[2,1].hist(x=angle_xs, bins = 50)\n",
    "\n",
    "    axes[3,0].set_xlabel(\"100 buckets\")\n",
    "    axes[3,0].set_ylabel(\"frequency of angle\")\n",
    "    axes[3,0].hist(x=angle_mers,bins = 100)\n",
    "\n",
    "    axes[3,1].set_xlabel(\"100 buckets\")\n",
    "    axes[3,1].hist(x=angle_xs, bins = 100)\n",
    "\n",
    "    plt.savefig(\"Assets/angle_buckets.png\")\n",
    "    plt.close()"
   ]
  },
  {
   "cell_type": "markdown",
   "metadata": {},
   "source": [
    "![A histogram of different bucket sizes generated by MT and xoshiro256++](Assets/angle_buckets.png)"
   ]
  },
  {
   "cell_type": "markdown",
   "metadata": {},
   "source": [
    "The Mersenne Twister has been known to fail certain statistical tests since its inception, by virtue of its mathematical characteristics. There exist other algorithms that are designed to be faster and that do not fail any known statistical tests, examples of which are almost all of the algorithms in the xoshiro family.[@vigna2019] Ultimately, the xoshiro256++, developed by Sebastian Vigna and David Blackman, was used. It is a variant of the xorshift algorithm, which extends the bit-shift and xor methods by bitrotation, making it still very fast, and more \"random\" than the xorshift.[@wiki:xorshift][@unimi:xoshiro]\n",
    "\n",
    "Note that testing a (pseudo) random number generator is usually much more involved than this, but since this has already been done extensively by other authors, we are satisfied with the $\\chi^2$ test, simply to test the implementation of the xoshiro256++, since it plays an important part.[@wiki:prng][@vigna2019]"
   ]
  },
  {
   "cell_type": "markdown",
   "metadata": {},
   "source": [
    "### Sampling from a normal distribution"
   ]
  },
  {
   "cell_type": "markdown",
   "metadata": {},
   "source": [
    "To initialize the velocities of generated particles, a Maxwell-Boltzmann distribution must be used. In two, as well as in three dimensions, this is equivalent to the product of two, or three, independent normal distributions with mean $\\mu = 0$ and variation $\\sigma^2 = \\frac{k_{B}T}{m}$, where $k_{B}$ is the boltzmann constant, $T$ is the temperature of the fluid, and $m$ is the mass of one particle. Thus, the velocities are sampled from normal distributions."
   ]
  },
  {
   "cell_type": "markdown",
   "metadata": {},
   "source": [
    "For this purpose, the normal distribution of the C++ standard library was used, along with a Mersenne Twister number generator, which, although it has some shortcomings, will for all practical purposes suffice for the scope of this thesis."
   ]
  },
  {
   "cell_type": "markdown",
   "metadata": {},
   "source": [
    "## Interaction of fluid particles flowing through pipe"
   ]
  },
  {
   "cell_type": "markdown",
   "metadata": {},
   "source": [
    "The fluid flows through a pipe that will be setup somewhere between 100 to 400 width, and 20 - 50 height, as can be seen in figure (TODO: figure number). In SI units, we might imagine .. (TODO: expand this section). The pipe has two parallel walls, the fluid-wall interaction is modeled using stick (or no-slip) boundary conditions. (TODO: figure). When a particle hits the wall, it goes back the same way it came there, which means that the sign of the velocity vector is flipped. Stick boundary conditions are shown in figure. (TODO: figure numbering) The fluid interacts with obstacles, which are modeled exactly like the wall, with a small complication from the geometry. To simplify this problem, the approximate collision process found in [@nikoubashman2013] is used."
   ]
  },
  {
   "cell_type": "markdown",
   "metadata": {},
   "source": [
    "![Container of MPCD fluid, with obstacles](Assets/MPCD_Pipe.png)"
   ]
  },
  {
   "cell_type": "markdown",
   "metadata": {},
   "source": [
    "![Reflection of particle from wall, stick boundary conditions](Assets/Wall_stick_boundary_conditions_reflection.png)"
   ]
  },
  {
   "cell_type": "markdown",
   "metadata": {},
   "source": [
    "Because of the shifting of the grid before the collision step, the cells next to the walls might be partially blocked by the wall. This partial blocking by the wall causes the cell to have, on average, less particles than it would have, had the grid not been shifted. The change in average particles distorts the collision step of particles near the wall. For more complex geometries than the one used in this thesis, the wall wont even be parallel to the grid lines, which makes this a problem even without a grid shift. To compensate this, it has been shown in (TODO: find a source) that the following process undoes the distortion.\n",
    "\n",
    "As is shown in figure (TODO: figure numbering), imagine a cell being blocked a little bit by the wall. Let's assume that the average number of particles per cell is 4. In the first cell, we count 3 particles. What is now done, is to introduce a \"virtual\" particle, which we might imagine as being behind the wall, though the position of it does not matter. Jumping to the second cell, we introduce 2 \"virtual particles\". In general, $\\bar N_c - N_c$ particles are introduced, where $\\bar N_c$ is the average number of particles per cell, chosen to be an integer, and $N_c$ is the actual number of particles found in cell $c$. Their velocities are sampled from two independent normal distributions with mean $\\mu = 0$ and variation $\\sigma^2 = \\frac{k_{B}T}{m}$, where $k_{B}$ is the boltzmann constant, $T$ is the temperature of the fluid, and $m$ is the mass of one particle."
   ]
  },
  {
   "cell_type": "markdown",
   "metadata": {},
   "source": [
    "![Undoing the distortion caused by the grid shift](Assets/Wall_stick_boundary_conditions_virtual_particles.png)"
   ]
  },
  {
   "cell_type": "markdown",
   "metadata": {},
   "source": [
    "## The streaming step"
   ]
  },
  {
   "cell_type": "markdown",
   "metadata": {},
   "source": [
    "The particle positions were drawn from a uniform real distribution in the same interval as the dimensions of the pipe. The velocities were sampled from a normal distribution as described in section (TODO: section number) The results can be seen in figure [TODO: figure numbering] below. From the positions in the first row, the velocities in the second row, particle streaming is applied for 1 and 10 timesteps, according to equation (TODO: equ numbering).\n",
    "\n",
    "TODO: update situation"
   ]
  },
  {
   "cell_type": "code",
   "execution_count": 6,
   "metadata": {},
   "outputs": [],
   "source": [
    "import pandas as pd\n",
    "import matplotlib.pyplot as plt\n",
    "import seaborn as sns\n",
    "\n",
    "path = \"../x64/Debug/Data/RNG/\"\n",
    "mers = \"mersenne_\"\n",
    "xoshiro = \"xoshiro_\"\n",
    "csv = \".csv\"\n",
    "particles = \"particles\"\n",
    "moved_xy = \"_after_move\"\n",
    "timesteps_moved_xy = \"_after_xx_timesteps\"\n",
    "x = \"x\"\n",
    "y = \"y\"\n",
    "vx = \"vx\"\n",
    "vy = \"vy\"\n",
    "\n",
    "mers_particles = pd.read_csv(path + mers + particles + csv)\n",
    "x_mers = mers_particles[x]\n",
    "y_mers = mers_particles[y]\n",
    "vx_mers = mers_particles[vx]\n",
    "vy_mers = mers_particles[vy]\n",
    "\n",
    "xs_particles = pd.read_csv(path + xoshiro + particles + csv)\n",
    "x_xs = xs_particles[x]\n",
    "y_xs = xs_particles[y]\n",
    "vx_xs = xs_particles[vx]\n",
    "vy_xs = xs_particles[vy]\n",
    "\n",
    "mers_moved_particles = pd.read_csv(path + mers + particles + moved_xy + csv)\n",
    "moved_x_mers = mers_moved_particles[x]\n",
    "moved_y_mers = mers_moved_particles[y]\n",
    "moved_vx_mers = mers_moved_particles[vx]\n",
    "moved_vy_mers = mers_moved_particles[vy]\n",
    "\n",
    "xs_moved_particles = pd.read_csv(path + xoshiro + particles + moved_xy + csv)\n",
    "moved_x_xs = xs_moved_particles[x]\n",
    "moved_y_xs = xs_moved_particles[y]\n",
    "moved_vx_xs = xs_moved_particles[vx]\n",
    "moved_vy_xs = xs_moved_particles[vy]\n",
    "\n",
    "mers_timesteps_moved_particles = pd.read_csv(path + mers + particles + timesteps_moved_xy + csv)\n",
    "timesteps_moved_x_mers = mers_timesteps_moved_particles[x]\n",
    "timesteps_moved_y_mers = mers_timesteps_moved_particles[y]\n",
    "timesteps_moved_vx_mers = mers_timesteps_moved_particles[vx]\n",
    "timesteps_moved_vy_mers = mers_timesteps_moved_particles[vy]\n",
    "\n",
    "xs_timesteps_moved_particles = pd.read_csv(path + xoshiro + particles + timesteps_moved_xy + csv)\n",
    "timesteps_moved_x_xs = xs_timesteps_moved_particles[x]\n",
    "timesteps_moved_y_xs = xs_timesteps_moved_particles[y]\n",
    "timesteps_moved_vx_xs = xs_timesteps_moved_particles[vx]\n",
    "timesteps_moved_vy_xs = xs_timesteps_moved_particles[vy]\n",
    "\n",
    "\n",
    "with sns.plotting_context(sns.set()):\n",
    "    point_size = 0.01\n",
    "    x_size_per_plot = 7\n",
    "    y_size_per_plot = 4\n",
    "    rows = 4\n",
    "    cols = 2\n",
    "    #plt.figure(num = 1, figsize=(x_size_per_plot * cols, y_size_per_plot * rows))\n",
    "\n",
    "    fig, axes = plt.subplots(nrows=rows, ncols=cols, figsize=(x_size_per_plot * cols, y_size_per_plot * rows))\n",
    "    cols = [\"Mersenne Twister\", \"xoshiro256++\"]\n",
    "    for ax, col in zip(axes[0], cols):\n",
    "        ax.annotate(col, xy=(0.5, 1), xytext=(0, 10),\n",
    "                    textcoords='offset points', xycoords='axes fraction',\n",
    "                    size='24', ha='center', va='baseline')\n",
    "\n",
    "    axes[0,0].set_ylabel(y)\n",
    "    axes[0,0].plot(x_mers, y_mers, \"o\", markersize = point_size)\n",
    "    axes[0,0].set_xlabel(x)\n",
    "\n",
    "    axes[0,1].plot(x_xs, y_xs, \"o\", markersize = point_size)\n",
    "    axes[0,1].set_xlabel(x)\n",
    "\n",
    "    axes[1,0].set_ylabel(\"y-component of v\")\n",
    "    axes[1,0].plot(vx_mers, vy_mers, \"o\", markersize = point_size)\n",
    "    axes[1,0].set_xlabel(\"x-component of v\")\n",
    "\n",
    "    axes[1,1].plot(vx_xs, vy_xs, \"o\", markersize = point_size)\n",
    "    axes[1,1].set_xlabel(\"x-component of v\")\n",
    "\n",
    "    axes[2,0].set_ylabel(y)\n",
    "    axes[2,0].plot(moved_x_mers, moved_y_mers, \"o\", markersize = point_size)\n",
    "    axes[2,0].set_xlabel(x)\n",
    "\n",
    "    axes[2,1].plot(moved_x_xs, moved_y_xs, \"o\", markersize = point_size)\n",
    "    axes[2,1].set_xlabel(x)\n",
    "\n",
    "    axes[3,0].set_ylabel(y)\n",
    "    axes[3,0].plot(timesteps_moved_x_mers, timesteps_moved_y_mers, \"o\", markersize = point_size)\n",
    "    axes[3,0].set_xlabel(x)\n",
    "\n",
    "    axes[3,1].plot(timesteps_moved_x_xs, timesteps_moved_y_xs, \"o\", markersize = point_size)\n",
    "    axes[3,1].set_xlabel(x)\n",
    "\n",
    "    plt.savefig(\"Assets/particle_streaming.png\")\n",
    "    plt.close()"
   ]
  },
  {
   "cell_type": "markdown",
   "metadata": {},
   "source": [
    "![Particle streaming without collision with MT and with xoshiro](Assets/particle_streaming.png)"
   ]
  },
  {
   "cell_type": "markdown",
   "metadata": {},
   "source": [
    "We see the x and y coordinates are randomly initialized according to the shape of the container. Looking closely, one can see that our particles look very much like noise. The absolute value of the velocity components are initialized to at most 1% of their respective dimensions. After one timestep, some of the particles on the outer ranges have moved out of bounds, and after ten timesteps, the particles have thinned out considerably along the edges."
   ]
  },
  {
   "cell_type": "markdown",
   "metadata": {},
   "source": [
    "### The ballistics step"
   ]
  },
  {
   "cell_type": "markdown",
   "metadata": {},
   "source": [
    "The ballistics step might be called a substep of particle streaming. Before the particles are moved, their future position is checked for interaction with the wall or obstacles. If particles overshoot the bounds set by either the wall or obstacles, their position is set to the collision point, from where they are subsequently moved for the rest of the distance they would have travelled, as explained in section. (TODO: section numbering) This means we are assuming elastic collision between the particles, the walls and obstacles."
   ]
  },
  {
   "cell_type": "markdown",
   "metadata": {},
   "source": [
    "## The collision step"
   ]
  },
  {
   "cell_type": "markdown",
   "metadata": {},
   "source": [
    "TODO: Redo this section"
   ]
  },
  {
   "cell_type": "markdown",
   "metadata": {},
   "source": [
    "### Grid"
   ]
  },
  {
   "cell_type": "markdown",
   "metadata": {},
   "source": [
    "For the implementation of the collision step, a regular lattice is needed.[@winkl2009] This grid has lattice constant $a$, which in this thesis will simply be $1$. Each cell of the grid has an average number of particles per cell, which is typically initialised to between three and 20, although it can be as high as 70[@ihlekroll2001]. This number mainly affects the viscosity of the fluid.(TODO: find source) The average number of particles for the studied situation is $\\bar N_c = 10$.\n",
    "\n",
    "TODO: update situation"
   ]
  },
  {
   "cell_type": "code",
   "execution_count": 7,
   "metadata": {},
   "outputs": [],
   "source": [
    "import seaborn as sns\n",
    "import matplotlib.pyplot as plt\n",
    "import glob\n",
    "import pandas as pd\n",
    "\n",
    "path = '../x64/Debug/Data/CellFrequenciesTest/'\n",
    "csv = '.csv'\n",
    "name_frequencies = 'cell_frequencies_av'\n",
    "row = 'i'\n",
    "col = 'j'\n",
    "num = 'n'\n",
    "name_constants = 'constants_'\n",
    "average_particles = 'average_particles_per_cell'\n",
    "number_particles = 'total_number_of_particles'\n",
    "cell_dim = 'cell_dim'\n",
    "\n",
    "filenames_f = glob.glob('{}{}*{}'.format(path, name_frequencies, csv))\n",
    "filenames_c = glob.glob('{}{}*{}'.format(path, name_constants, csv))\n",
    "\n",
    "# get frequencies, sort by len\n",
    "pivots = []\n",
    "for file in filenames_f:\n",
    "    temp = pd.read_csv(file)\n",
    "    temp = temp[temp[row] != temp[row].max()]\n",
    "    temp = temp[temp[col] != temp[col].max()]\n",
    "    pivot = temp.pivot(index = row, columns = col, values = num)\n",
    "    pivots.append(pivot)\n",
    "pivots.sort(key=lambda l: len(l), reverse=True)\n",
    "    \n",
    "# get constants, sort by av_particles (same sort as above)\n",
    "info_df = pd.DataFrame(columns=['timesteps','time_lapse','cell_dim','x_0','y_0','x_max','y_max','average_particles_per_cell','total_number_of_particles'])\n",
    "for file in filenames_c:\n",
    "    info_df = pd.concat([info_df, pd.read_csv(file)], ignore_index=True)\n",
    "info_df = info_df.sort_values(average_particles)\n",
    "num = info_df[number_particles]\n",
    "average = info_df[average_particles]\n",
    "a = info_df[cell_dim]\n",
    "width = info_df['x_max'] - info_df['x_0']\n",
    "height = info_df['y_max'] - info_df['y_0']\n",
    "\n",
    "# plot data\n",
    "fig, ax = plt.subplots(2, 2, figsize = (15,10))\n",
    "fig.tight_layout(pad=3.0)\n",
    "\n",
    "ax[0,0].set_title('Particles: {p}, Average: {av}, a={a}, w={w}, h={h}'.format(p = int(num.iloc[0]),\n",
    "                                                                                       av = int(average.iloc[0]),\n",
    "                                                                                       a = round(float(a.iloc[0]), 3), \n",
    "                                                                                       w = round(float(width[0]), 3), \n",
    "                                                                                       h = round(float(height[0]), 3)))\n",
    "sns.heatmap(pivots[0], ax = ax[0,0])#, ax=ax1)\n",
    "ax[0,1].set_title('Particles: {p}, Average: {av}, a={a}, w={w}, h={h}'.format(p = int(num.iloc[1]),\n",
    "                                                                                       av = int(average.iloc[1]),\n",
    "                                                                                       a = round(float(a.iloc[1]), 3), \n",
    "                                                                                       w = round(float(width[1]), 3), \n",
    "                                                                                       h = round(float(height[1]), 3)))\n",
    "sns.heatmap(pivots[1], ax = ax[0,1])#, ax=ax2)\n",
    "ax[1,0].set_title('Particles: {p}, Average: {av}, a={a}, w={w}, h={h}'.format(p = int(num.iloc[2]),\n",
    "                                                                                       av = int(average.iloc[2]),\n",
    "                                                                                       a = round(float(a.iloc[2]), 3), \n",
    "                                                                                       w = round(float(width[2]), 3), \n",
    "                                                                                       h = round(float(height[2]), 3)))\n",
    "sns.heatmap(pivots[2], ax = ax[1,0])\n",
    "ax[1,1].set_title('Particles: {p}, Average: {av}, a={a}, w={w}, h={h}'.format(p = int(num.iloc[3]),\n",
    "                                                                                       av = int(average.iloc[3]),\n",
    "                                                                                       a = round(float(a.iloc[3]), 3), \n",
    "                                                                                       w = round(float(width[3]), 3), \n",
    "                                                                                       h = round(float(height[3]), 3)))\n",
    "sns.heatmap(pivots[3], ax = ax[1,1])\n",
    "\n",
    "plt.savefig(\"Assets/average_grid_particles.png\")\n",
    "plt.close()"
   ]
  },
  {
   "cell_type": "markdown",
   "metadata": {},
   "source": [
    "![Average number of particles per Grid cell](Assets/average_grid_particles.png)"
   ]
  },
  {
   "cell_type": "markdown",
   "metadata": {},
   "source": [
    "### Grid shift"
   ]
  },
  {
   "cell_type": "markdown",
   "metadata": {},
   "source": [
    "After particle streaming, the grid is shifted. The components of this shift, $\\vect s$ are sampled from a uniform random distribution in the interval $[-\\frac{a}{2},\\frac{a}{2}]$. As discussed before, this step is necessary to restore Galilean invariance, which is violated when the molecular chaos assumption does not hold. This happens when simulating cold fluids or when using very small timesteps.[@ihlekroll2001]\n",
    "The shift is undone at the end of the collision step, after the velocity of all particles has been updated."
   ]
  },
  {
   "cell_type": "markdown",
   "metadata": {},
   "source": [
    "### Velocity updating"
   ]
  },
  {
   "cell_type": "markdown",
   "metadata": {},
   "source": [
    "The velocities of the particles update according to equation (TODO: numbering equ). To calculate the mean velocity $\\vec{V_{c}}$ of cell $c$, first a way to assign each particle a cell has to be established. Let the indices of the cell be $(i, j)$. The position of a cell can then be calculated as $x_c = j \\cdot (a + s_x)$ and $y_c = i \\cdot (a + s_y)$, where $a$ is the lattice constant, $s_x$ and $s_y$ are the $x$ and $y$ components of shift $\\vect s$. So for the indices it follows,\n",
    "\n",
    "\\begin{equation}\n",
    "i = \\floor{\\frac{y}{a + s_y}}\\\\\n",
    "j = \\floor{\\frac{x}{a + s_x}},\n",
    "\\end{equation}\n",
    "where $(x,y)$ refers to the components of the particle's position vector. With this method to determine the cells, the total cell velocities and numbers of particles in each cell are calculated to obtain the mean cell velocity. Using a uniform randomly sampled rotation angle $\\alpha$ and rule (TODO: numbering equ), the particles' velocities are updated.\n",
    "\n",
    "If particles go out of the simulation bounds due to the grid shift, they reappear at the other end as described in section (TODO: section numbering). Because the wall will not align with the grid anymore, virtual particles as described in section (TODO: section numbering) have to be introduced."
   ]
  },
  {
   "cell_type": "markdown",
   "metadata": {},
   "source": [
    "## Testing MPCD barebones"
   ]
  },
  {
   "cell_type": "markdown",
   "metadata": {},
   "source": [
    "Having implemented the essential features of the MPCD algorithm, namely the streaming and collision steps, it is time for testing it to make sure it was implemented correctly. This section will present conservation tests and visual tests. Note that there are no walls and no obstacles, no forces and no thermostat, yet."
   ]
  },
  {
   "cell_type": "markdown",
   "metadata": {},
   "source": [
    "### Timestep animation"
   ]
  },
  {
   "cell_type": "markdown",
   "metadata": {},
   "source": [
    "To inspect and understand the behavior of our simulation, an animation was created. The fluid starts out in a random state, which means that the positions and velocities of the particles are initialized randomly."
   ]
  },
  {
   "cell_type": "markdown",
   "metadata": {},
   "source": [
    "The initial state, and the one after 100 timesteps, of region $x \\in (200, 240)$, $y \\in (0, 20)$ can be seen below (TODO figure#)."
   ]
  },
  {
   "cell_type": "code",
   "execution_count": 3,
   "metadata": {},
   "outputs": [],
   "source": [
    "timesteps = []\n",
    "I = []\n",
    "J = []\n",
    "U = []\n",
    "V = []\n",
    "pivot = []"
   ]
  },
  {
   "cell_type": "code",
   "execution_count": 1,
   "metadata": {},
   "outputs": [],
   "source": [
    "from math import floor\n",
    "import pandas as pd\n",
    "import glob\n",
    "import numpy as np\n",
    "import matplotlib.pyplot as plt\n",
    "import matplotlib.gridspec as gridspec\n",
    "import seaborn as sns\n",
    "import os.path\n",
    "\n",
    "path = \"../Application/MPCDApplication/Data/\"\n",
    "csv = \".csv\"\n",
    "av = 10\n",
    "constants = 'constants_av' + str(av) + csv\n",
    "\n",
    "constants = pd.read_csv(path + constants)\n",
    "num_timesteps = int(constants['timesteps'])"
   ]
  },
  {
   "cell_type": "code",
   "execution_count": 69,
   "metadata": {
    "scrolled": false
   },
   "outputs": [
    {
     "name": "stdout",
     "output_type": "stream",
     "text": [
      "Loading particles ..\n",
      "--loaded 100\n",
      "Particles loaded and saved!\n",
      "\n"
     ]
    }
   ],
   "source": [
    "shown_x = float(constants['width'])\n",
    "shown_y = float(constants['height'])\n",
    "\n",
    "saved = './Saved'\n",
    "saved_particles = '/particles.pkl'\n",
    "file_particles = saved + saved_particles\n",
    "\n",
    "def load_particles(path, chunksize):\n",
    "    columns = []\n",
    "    x_columns = ['x{}'.format(it) for it in range(0, num_timesteps)]\n",
    "    y_columns = ['y{}'.format(it) for it in range(0, num_timesteps)]\n",
    "    columns.extend(x_columns)\n",
    "    columns.extend(y_columns)\n",
    "    particles = pd.DataFrame(columns = columns)\n",
    "\n",
    "    if (os.path.isfile(file_particles)):\n",
    "        print('Found saved particles_x and particles_y files!')\n",
    "        particles = pd.read_pickle(file_particles)\n",
    "        print('Loaded particles files.')\n",
    "    else:\n",
    "        # Loading particles\n",
    "        print('Loading particles ..')\n",
    "        filenames_particles = glob.glob('{}*.csv'.format(path))\n",
    "        it = 0\n",
    "        for file in filenames_particles:\n",
    "            df = pd.read_csv(file)\n",
    "            df = df.loc[(df['x'] >= 0) & (df['x'] <= shown_x) & (df['y'] >= 0) & (df['y'] <= shown_y)]\n",
    "            particles[['x{}'.format(it), 'y{}'.format(it)]] = df[['x', 'y']]\n",
    "            #print('particles')\n",
    "            #print(particles[particles['x{}'.format(it)].notnull()])\n",
    "            it += 1\n",
    "            if (it % 100 == 0):\n",
    "                print('--loaded {}'.format(it))\n",
    "        particles.to_pickle(file_particles)\n",
    "        it = 0\n",
    "        print('Particles loaded and saved!\\n')\n",
    "        # Particles loaded\n",
    "    return particles\n",
    "\n",
    "\n",
    "particles_path = '{parent}particles_av{av}'.format(parent = path, av=av)    \n",
    "particles = load_particles(path = particles_path, chunksize = chunksize)\n",
    "particles.to_csv('{}/particles.csv'.format(saved))\n",
    "print('Saved as .csv')\n",
    "#print(particles)"
   ]
  },
  {
   "cell_type": "code",
   "execution_count": 70,
   "metadata": {},
   "outputs": [
    {
     "name": "stdout",
     "output_type": "stream",
     "text": [
      "Loading cells\n",
      "--loaded 100\n",
      "Cells loaded and saved!\n",
      "\n",
      "Preparing cell values ..\n",
      "Cell preparation complete!\n"
     ]
    }
   ],
   "source": [
    "cell_dim = float(constants['cell_dim'])\n",
    "width = float(constants['width'])\n",
    "height = float(constants['height'])\n",
    "shown_cols = floor(width / cell_dim)\n",
    "shown_rows = floor(height / cell_dim)\n",
    "\n",
    "saved = './Saved'\n",
    "saved_cells = '/cells.pkl'\n",
    "file_cells = saved + saved_cells\n",
    "\n",
    "columns = ['i', 'j', 'meanX', 'meanY', 'num']\n",
    "\n",
    "def load_cells(path, columns, shown_rows, shown_cols):\n",
    "    \n",
    "    index = ['t']\n",
    "    if (os.path.isfile(file_cells)):\n",
    "        cells = pd.read_pickle(file_cells)\n",
    "        #print(cells)\n",
    "        #cells.set_index(index, inplace=True)\n",
    "    else:\n",
    "        # Loading cells\n",
    "        print('Loading cells')\n",
    "        \n",
    "        cells_timesteps = []\n",
    "        \n",
    "        it = 0\n",
    "        filenames_cells = glob.glob('{}*.csv'.format(path))\n",
    "        for file in filenames_cells:\n",
    "            df = pd.read_csv(file)\n",
    "            cells_timesteps.append(df)\n",
    "            #df[[i,j]] = (df[[i,j]] + 1/2) * cell_dim\n",
    "            #print(df.head())\n",
    "            it += 1\n",
    "            if (it % 100 == 0):\n",
    "                print('--loaded {}'.format(it))\n",
    "        #cells.to_pickle(file_cells)\n",
    "        print('Cells loaded and saved!\\n')\n",
    "        # Cells loaded\n",
    "        return cells_timesteps\n",
    "    \n",
    "def prepare_cells(cells_timesteps, columns, shown_rows, shown_cols):\n",
    "    # Preparing cell values\n",
    "    print('Preparing cell values ..')\n",
    "\n",
    "    array_i = np.arange(0, shown_rows)\n",
    "    array_j = np.arange(0, shown_cols)\n",
    "    I,J = np.meshgrid(array_j, array_i)\n",
    "\n",
    "    U = []\n",
    "    V = []\n",
    "\n",
    "    i = columns[0]\n",
    "    j = columns[1]\n",
    "    vx = columns[2]\n",
    "    vy = columns[3]\n",
    "    num = columns[4]\n",
    "\n",
    "    pivots = []\n",
    "    for df in cells_timesteps:\n",
    "        # only the rows and cols above 0\n",
    "        # and below shown_rows, shown_cols\n",
    "        # this is to \n",
    "        # --1. no vaccuum around simulated region\n",
    "        # --2. I,J are fixed size\n",
    "        U_inner = []\n",
    "        V_inner = []\n",
    "        for it in array_i: # TODO: check this code something seems foul (row, cols, but only using rows)\n",
    "            temp = df.loc[df[i] == it]\n",
    "            u = np.array(temp[vx])\n",
    "            U_inner.append(u)\n",
    "            v = np.array(temp[vy])\n",
    "            V_inner.append(v)\n",
    "        U.append(np.array(U_inner))#, dtype = object))\n",
    "        V.append(np.array(V_inner))#, dtype = object))\n",
    "\n",
    "        pivot = df.pivot(index = i, columns = j, values = num)\n",
    "        pivots.append(pivot)\n",
    "\n",
    "    print('Cell preparation complete!')\n",
    "    return I,J,U,V, pivots\n",
    "    # Cell preparation complete\n",
    "\n",
    "\n",
    "cells_path = path + 'cells_av{}'.format(av)\n",
    "cells_timesteps = load_cells(cells_path, columns, shown_rows, shown_cols)\n",
    "I,J,U,V,pivots = prepare_cells(cells_timesteps, columns, shown_rows, shown_cols)"
   ]
  },
  {
   "cell_type": "code",
   "execution_count": 71,
   "metadata": {
    "scrolled": true
   },
   "outputs": [
    {
     "name": "stdout",
     "output_type": "stream",
     "text": [
      "Plotting data ..\n",
      "Data plotted and saved!\n"
     ]
    }
   ],
   "source": [
    "# Plotting\n",
    "#with (sns.plotting_context(sns.set())):\n",
    "x_0_region = 200\n",
    "x_max_region = 240\n",
    "y_0_region = -1\n",
    "y_max_region = 20\n",
    "\n",
    "print('Plotting data ..')\n",
    "fig = plt.figure(figsize=(20,20))\n",
    "ax = [fig.add_subplot(2,2,i+1) for i in range(4)]\n",
    "\n",
    "for a in ax:\n",
    "    a.set_xticklabels([])\n",
    "    a.set_yticklabels([])\n",
    "    #a.set_aspect('equal')\n",
    "    \n",
    "fig.subplots_adjust(wspace=0, hspace=0)\n",
    "\n",
    "color = np.sqrt(U[0]**2 + V[0]**2)\n",
    "point_size = 1\n",
    "\n",
    "ax[0].xaxis.set_ticks([])\n",
    "ax[0].yaxis.set_ticks([])\n",
    "ax[0].quiver(I, J, U[0], V[0], color)\n",
    "ax[0].set(xlim=(x_0_region,x_max_region), ylim=(y_0_region,y_max_region))\n",
    "\n",
    "ax[1].xaxis.set_ticks([])\n",
    "ax[1].yaxis.set_ticks([])\n",
    "ax[1].streamplot(I, J, U[0], V[0], color=color) # grid\n",
    "ax[1].set(xlim=(x_0_region,x_max_region), ylim=(y_0_region,y_max_region))\n",
    "\n",
    "ax[2].xaxis.set_ticks([])\n",
    "ax[2].yaxis.set_ticks([])\n",
    "ax[2].plot(particles['x0'], particles['y0'], \"o\", markersize = point_size)\n",
    "ax[2].set(xlim=(x_0_region,x_max_region), ylim=(0,y_max_region))\n",
    "\n",
    "ax[3].xaxis.set_ticks([])\n",
    "ax[3].yaxis.set_ticks([])\n",
    "#img = ax[3].imshow(pivot, cmap='hot')\n",
    "#fig.colorbar(img, ax=ax[3], fraction=0.046, pad=0.005)\n",
    "sns.heatmap(pivots[0], ax=ax[3], xticklabels = False, yticklabels = False, cbar_kws={\"fraction\": 0.046, \"pad\": 0.01})\n",
    "ax[3].set(xlim=(x_0_region,x_max_region), ylim=(0,y_max_region))\n",
    "#ax[3].xticks('')\n",
    "#ax[3].yticks('')\n",
    "ax[3].set_ylabel('')\n",
    "ax[3].set_xlabel('')\n",
    "#ax[1,1].imshow(pivot, cmap='hot')\n",
    "\n",
    "plt.savefig(\"Assets/initial_region.png\")\n",
    "plt.close()\n",
    "print('Data plotted and saved!')"
   ]
  },
  {
   "cell_type": "markdown",
   "metadata": {},
   "source": [
    "![Initial State of region with barebones MPCD implementation](Assets/initial_region.png)"
   ]
  },
  {
   "cell_type": "code",
   "execution_count": 73,
   "metadata": {},
   "outputs": [
    {
     "name": "stdout",
     "output_type": "stream",
     "text": [
      "Plotting data ..\n",
      "Data plotted and saved!\n"
     ]
    }
   ],
   "source": [
    "print('Plotting data ..')\n",
    "fig = plt.figure(figsize=(20,20))\n",
    "ax = [fig.add_subplot(2,2,i+1) for i in range(4)]\n",
    "\n",
    "timesteps = int(constants['timesteps']) - 1\n",
    "\n",
    "for a in ax:\n",
    "    a.set_xticklabels([])\n",
    "    a.set_yticklabels([])\n",
    "    #a.set_aspect('equal')\n",
    "    \n",
    "fig.subplots_adjust(wspace=0, hspace=0)\n",
    "\n",
    "color = np.sqrt(U[timesteps]**2 + V[timesteps]**2)\n",
    "point_size = 1\n",
    "\n",
    "ax[0].xaxis.set_ticks([])\n",
    "ax[0].yaxis.set_ticks([])\n",
    "ax[0].quiver(I, J, U[timesteps], V[timesteps], color)\n",
    "ax[0].set(xlim=(x_0_region,x_max_region), ylim=(y_0_region,y_max_region))\n",
    "\n",
    "ax[1].xaxis.set_ticks([])\n",
    "ax[1].yaxis.set_ticks([])\n",
    "ax[1].streamplot(I, J, U[timesteps], V[timesteps], color=color) # grid\n",
    "ax[1].set(xlim=(x_0_region,x_max_region), ylim=(y_0_region,y_max_region))\n",
    "\n",
    "ax[2].xaxis.set_ticks([])\n",
    "ax[2].yaxis.set_ticks([])\n",
    "ax[2].plot(particles['x{}'.format(timesteps)], particles['y{}'.format(timesteps)], \"o\", markersize = point_size)\n",
    "ax[2].set(xlim=(x_0_region,x_max_region), ylim=(0,y_max_region))\n",
    "\n",
    "ax[3].xaxis.set_ticks([])\n",
    "ax[3].yaxis.set_ticks([])\n",
    "#img = ax[3].imshow(pivot, cmap='hot')\n",
    "#fig.colorbar(img, ax=ax[3], fraction=0.046, pad=0.005)\n",
    "sns.heatmap(pivots[timesteps], ax=ax[3], xticklabels = False, yticklabels = False, cbar_kws={\"fraction\": 0.046, \"pad\": 0.005})\n",
    "ax[3].set(xlim=(x_0_region,x_max_region), ylim=(0,y_max_region))\n",
    "#ax[3].xticks('')\n",
    "#ax[3].yticks('')\n",
    "ax[3].set_ylabel('')\n",
    "ax[3].set_xlabel('')\n",
    "#ax[1,1].imshow(pivot, cmap='hot')\n",
    "\n",
    "plt.savefig(\"Assets/stationary_region.png\")\n",
    "plt.close()\n",
    "print('Data plotted and saved!')"
   ]
  },
  {
   "cell_type": "markdown",
   "metadata": {},
   "source": [
    "![Ending (maybe stationary) state of region with barebones MPCD implementation](Assets/stationary_region.png)"
   ]
  },
  {
   "cell_type": "code",
   "execution_count": 74,
   "metadata": {},
   "outputs": [
    {
     "name": "stdout",
     "output_type": "stream",
     "text": [
      "Animating Quiver ...\n",
      "\n",
      "--Created 0 frame.\n",
      "\n",
      "--Created 0 frame.\n",
      "\n",
      "--Created 1 frame.\n",
      "\n",
      "--Created 2 frame.\n",
      "\n",
      "--Created 3 frame.\n",
      "\n",
      "--Created 4 frame.\n",
      "\n",
      "--Created 5 frame.\n",
      "\n",
      "--Created 6 frame.\n",
      "\n",
      "--Created 7 frame.\n",
      "\n",
      "--Created 8 frame.\n",
      "\n",
      "--Created 9 frame.\n",
      "\n",
      "--Created 10 frame.\n",
      "\n",
      "--Created 11 frame.\n",
      "\n",
      "--Created 12 frame.\n",
      "\n",
      "--Created 13 frame.\n",
      "\n",
      "--Created 14 frame.\n",
      "\n",
      "--Created 15 frame.\n",
      "\n",
      "--Created 16 frame.\n",
      "\n",
      "--Created 17 frame.\n",
      "\n",
      "--Created 18 frame.\n",
      "\n",
      "--Created 19 frame.\n",
      "\n",
      "--Created 20 frame.\n",
      "\n",
      "--Created 21 frame.\n",
      "\n",
      "--Created 22 frame.\n",
      "\n",
      "--Created 23 frame.\n",
      "\n",
      "--Created 24 frame.\n",
      "\n",
      "--Created 25 frame.\n",
      "\n",
      "--Created 26 frame.\n",
      "\n",
      "--Created 27 frame.\n",
      "\n",
      "--Created 28 frame.\n",
      "\n",
      "--Created 29 frame.\n",
      "\n",
      "--Created 30 frame.\n",
      "\n",
      "--Created 31 frame.\n",
      "\n",
      "--Created 32 frame.\n",
      "\n",
      "--Created 33 frame.\n",
      "\n",
      "--Created 34 frame.\n",
      "\n",
      "--Created 35 frame.\n",
      "\n",
      "--Created 36 frame.\n",
      "\n",
      "--Created 37 frame.\n",
      "\n",
      "--Created 38 frame.\n",
      "\n",
      "--Created 39 frame.\n",
      "\n",
      "--Created 40 frame.\n",
      "\n",
      "--Created 41 frame.\n",
      "\n",
      "--Created 42 frame.\n",
      "\n",
      "--Created 43 frame.\n",
      "\n",
      "--Created 44 frame.\n",
      "\n",
      "--Created 45 frame.\n",
      "\n",
      "--Created 46 frame.\n",
      "\n",
      "--Created 47 frame.\n",
      "\n",
      "--Created 48 frame.\n",
      "\n",
      "--Created 49 frame.\n",
      "\n",
      "--Created 50 frame.\n",
      "\n",
      "--Created 51 frame.\n",
      "\n",
      "--Created 52 frame.\n",
      "\n",
      "--Created 53 frame.\n",
      "\n",
      "--Created 54 frame.\n",
      "\n",
      "--Created 55 frame.\n",
      "\n",
      "--Created 56 frame.\n",
      "\n",
      "--Created 57 frame.\n",
      "\n",
      "--Created 58 frame.\n",
      "\n",
      "--Created 59 frame.\n",
      "\n",
      "--Created 60 frame.\n",
      "\n",
      "--Created 61 frame.\n",
      "\n",
      "--Created 62 frame.\n",
      "\n",
      "--Created 63 frame.\n",
      "\n",
      "--Created 64 frame.\n",
      "\n",
      "--Created 65 frame.\n",
      "\n",
      "--Created 66 frame.\n",
      "\n",
      "--Created 67 frame.\n",
      "\n",
      "--Created 68 frame.\n",
      "\n",
      "--Created 69 frame.\n",
      "\n",
      "--Created 70 frame.\n",
      "\n",
      "--Created 71 frame.\n",
      "\n",
      "--Created 72 frame.\n",
      "\n",
      "--Created 73 frame.\n",
      "\n",
      "--Created 74 frame.\n",
      "\n",
      "--Created 75 frame.\n",
      "\n",
      "--Created 76 frame.\n",
      "\n",
      "--Created 77 frame.\n",
      "\n",
      "--Created 78 frame.\n",
      "\n",
      "--Created 79 frame.\n",
      "\n",
      "--Created 80 frame.\n",
      "\n",
      "--Created 81 frame.\n",
      "\n",
      "--Created 82 frame.\n",
      "\n",
      "--Created 83 frame.\n",
      "\n",
      "--Created 84 frame.\n",
      "\n",
      "--Created 85 frame.\n",
      "\n",
      "--Created 86 frame.\n",
      "\n",
      "--Created 87 frame.\n",
      "\n",
      "--Created 88 frame.\n",
      "\n",
      "--Created 89 frame.\n",
      "\n",
      "--Created 90 frame.\n",
      "\n",
      "--Created 91 frame.\n",
      "\n",
      "--Created 92 frame.\n",
      "\n",
      "--Created 93 frame.\n",
      "\n",
      "--Created 94 frame.\n",
      "\n",
      "--Created 95 frame.\n",
      "\n",
      "--Created 96 frame.\n",
      "\n",
      "--Created 97 frame.\n",
      "\n",
      "--Created 98 frame.\n",
      "\n",
      "--Created 99 frame.\n",
      "\n",
      "Animated and saved!\n"
     ]
    }
   ],
   "source": [
    "from matplotlib import animation\n",
    "print('Animating Quiver ...\\n')\n",
    "\n",
    "# First set up the figure, the axis, and the plot element we want to animate\n",
    "fig = plt.figure()\n",
    "ax = plt.axes(xlim=(x_0_region, x_max_region), ylim=(y_0_region, y_max_region))\n",
    "\n",
    "quiv = ax.quiver(I, J, 10**-5*U[0], 10**-5*V[0], scale = 1)\n",
    "\n",
    "# initialization function: plot the background of each frame\n",
    "def init():\n",
    "    #quiv.set_data([], [], [], [])\n",
    "    return quiv,\n",
    "\n",
    "# animation function.  This is called sequentially\n",
    "def animate(it, quiv, I, J):\n",
    "    #color = np.sqrt(U[it]**2 + V[it]**2)\n",
    "    quiv.set_UVC(10**-5*U[it], 10**-5*V[it])\n",
    "    print('--Created {} frame.\\n'.format(it))\n",
    "    #quiv.set_color(color)\n",
    "    return quiv,\n",
    "\n",
    "# call the animator.  blit=True means only re-draw the parts that have changed.\n",
    "anim = animation.FuncAnimation(fig, animate, fargs = (quiv, I, J),#init_func=init,\n",
    "                               frames=100, interval=1, blit=False)\n",
    "\n",
    "# save the animation as an mp4.  This requires ffmpeg or mencoder to be\n",
    "# installed.  The extra_args ensure that the x264 codec is used, so that\n",
    "# the video can be embedded in html5.  You may need to adjust this for\n",
    "# your system: for more information, see\n",
    "# http://matplotlib.sourceforge.net/api/animation_api.html\n",
    "anim.save('./Assets/quiver_animation.mp4', fps=5) #extra_args=['-vcodec', 'libx264'])\n",
    "print('Animated and saved!')\n",
    "\n",
    "plt.close()"
   ]
  },
  {
   "cell_type": "code",
   "execution_count": 75,
   "metadata": {},
   "outputs": [
    {
     "name": "stdout",
     "output_type": "stream",
     "text": [
      "Animating Streamplot ...\n",
      "\n",
      "--Created 0 frame.\n",
      "\n",
      "--Created 0 frame.\n",
      "\n",
      "--Created 1 frame.\n",
      "\n",
      "--Created 2 frame.\n",
      "\n",
      "--Created 3 frame.\n",
      "\n",
      "--Created 4 frame.\n",
      "\n",
      "--Created 5 frame.\n",
      "\n",
      "--Created 6 frame.\n",
      "\n",
      "--Created 7 frame.\n",
      "\n",
      "--Created 8 frame.\n",
      "\n",
      "--Created 9 frame.\n",
      "\n",
      "--Created 10 frame.\n",
      "\n",
      "--Created 11 frame.\n",
      "\n",
      "--Created 12 frame.\n",
      "\n",
      "--Created 13 frame.\n",
      "\n",
      "--Created 14 frame.\n",
      "\n",
      "--Created 15 frame.\n",
      "\n",
      "--Created 16 frame.\n",
      "\n",
      "--Created 17 frame.\n",
      "\n",
      "--Created 18 frame.\n",
      "\n",
      "--Created 19 frame.\n",
      "\n",
      "--Created 20 frame.\n",
      "\n",
      "--Created 21 frame.\n",
      "\n",
      "--Created 22 frame.\n",
      "\n",
      "--Created 23 frame.\n",
      "\n",
      "--Created 24 frame.\n",
      "\n",
      "--Created 25 frame.\n",
      "\n",
      "--Created 26 frame.\n",
      "\n",
      "--Created 27 frame.\n",
      "\n",
      "--Created 28 frame.\n",
      "\n",
      "--Created 29 frame.\n",
      "\n",
      "--Created 30 frame.\n",
      "\n",
      "--Created 31 frame.\n",
      "\n",
      "--Created 32 frame.\n",
      "\n",
      "--Created 33 frame.\n",
      "\n",
      "--Created 34 frame.\n",
      "\n",
      "--Created 35 frame.\n",
      "\n",
      "--Created 36 frame.\n",
      "\n",
      "--Created 37 frame.\n",
      "\n",
      "--Created 38 frame.\n",
      "\n",
      "--Created 39 frame.\n",
      "\n",
      "--Created 40 frame.\n",
      "\n",
      "--Created 41 frame.\n",
      "\n",
      "--Created 42 frame.\n",
      "\n",
      "--Created 43 frame.\n",
      "\n",
      "--Created 44 frame.\n",
      "\n",
      "--Created 45 frame.\n",
      "\n",
      "--Created 46 frame.\n",
      "\n",
      "--Created 47 frame.\n",
      "\n",
      "--Created 48 frame.\n",
      "\n",
      "--Created 49 frame.\n",
      "\n",
      "--Created 50 frame.\n",
      "\n",
      "--Created 51 frame.\n",
      "\n",
      "--Created 52 frame.\n",
      "\n",
      "--Created 53 frame.\n",
      "\n",
      "--Created 54 frame.\n",
      "\n",
      "--Created 55 frame.\n",
      "\n",
      "--Created 56 frame.\n",
      "\n",
      "--Created 57 frame.\n",
      "\n",
      "--Created 58 frame.\n",
      "\n",
      "--Created 59 frame.\n",
      "\n",
      "--Created 60 frame.\n",
      "\n",
      "--Created 61 frame.\n",
      "\n",
      "--Created 62 frame.\n",
      "\n",
      "--Created 63 frame.\n",
      "\n",
      "--Created 64 frame.\n",
      "\n",
      "--Created 65 frame.\n",
      "\n",
      "--Created 66 frame.\n",
      "\n",
      "--Created 67 frame.\n",
      "\n",
      "--Created 68 frame.\n",
      "\n",
      "--Created 69 frame.\n",
      "\n",
      "--Created 70 frame.\n",
      "\n",
      "--Created 71 frame.\n",
      "\n",
      "--Created 72 frame.\n",
      "\n",
      "--Created 73 frame.\n",
      "\n",
      "--Created 74 frame.\n",
      "\n",
      "--Created 75 frame.\n",
      "\n",
      "--Created 76 frame.\n",
      "\n",
      "--Created 77 frame.\n",
      "\n",
      "--Created 78 frame.\n",
      "\n",
      "--Created 79 frame.\n",
      "\n",
      "--Created 80 frame.\n",
      "\n",
      "--Created 81 frame.\n",
      "\n",
      "--Created 82 frame.\n",
      "\n",
      "--Created 83 frame.\n",
      "\n",
      "--Created 84 frame.\n",
      "\n",
      "--Created 85 frame.\n",
      "\n",
      "--Created 86 frame.\n",
      "\n",
      "--Created 87 frame.\n",
      "\n",
      "--Created 88 frame.\n",
      "\n",
      "--Created 89 frame.\n",
      "\n",
      "--Created 90 frame.\n",
      "\n",
      "--Created 91 frame.\n",
      "\n",
      "--Created 92 frame.\n",
      "\n",
      "--Created 93 frame.\n",
      "\n",
      "--Created 94 frame.\n",
      "\n",
      "--Created 95 frame.\n",
      "\n",
      "--Created 96 frame.\n",
      "\n",
      "--Created 97 frame.\n",
      "\n",
      "--Created 98 frame.\n",
      "\n",
      "--Created 99 frame.\n",
      "\n",
      "Animated and saved!\n"
     ]
    }
   ],
   "source": [
    "from matplotlib import animation\n",
    "\n",
    "print('Animating Streamplot ...\\n')\n",
    "\n",
    "# First set up the figure, the axis, and the plot element we want to animate\n",
    "fig = plt.figure()\n",
    "ax = plt.axes(xlim=(x_0_region, x_max_region), ylim=(y_0_region, y_max_region))\n",
    "color = np.sqrt(U[0]**2 + V[0]**2)\n",
    "stream = ax.streamplot(I, J, U[0], V[0], color=color)\n",
    "\n",
    "# initialization function: plot the background of each frame\n",
    "def init():\n",
    "    #quiv.set_data([], [], [], [])\n",
    "    return stream\n",
    "\n",
    "# animation function.  This is called sequentially\n",
    "def animate(it):\n",
    "    ax.collections = [] # clear lines streamplot\n",
    "    ax.patches = [] # clear arrowheads streamplot\n",
    "    color = np.sqrt(U[it]**2 + V[it]**2)\n",
    "    stream = ax.streamplot(I, J, U[it], V[it], color=color)\n",
    "    print('--Created {} frame.\\n'.format(it))\n",
    "    return stream\n",
    "\n",
    "# call the animator.  blit=True means only re-draw the parts that have changed.\n",
    "anim = animation.FuncAnimation(fig, animate, #init_func=init,\n",
    "                               frames=100, interval=5, blit=False)\n",
    "\n",
    "# save the animation as an mp4.  This requires ffmpeg or mencoder to be\n",
    "# installed.  The extra_args ensure that the x264 codec is used, so that\n",
    "# the video can be embedded in html5.  You may need to adjust this for\n",
    "# your system: for more information, see\n",
    "# http://matplotlib.sourceforge.net/api/animation_api.html\n",
    "anim.save('./Assets/streamplot_animation.mp4', fps=5) #extra_args=['-vcodec', 'libx264'])\n",
    "print('Animated and saved!')\n",
    "\n",
    "plt.close()"
   ]
  },
  {
   "cell_type": "code",
   "execution_count": 76,
   "metadata": {},
   "outputs": [
    {
     "name": "stdout",
     "output_type": "stream",
     "text": [
      "Animating Heatmap ...\n",
      "\n",
      "--Created 0 frame.\n",
      "\n",
      "--Created 1 frame.\n",
      "\n",
      "--Created 2 frame.\n",
      "\n",
      "--Created 3 frame.\n",
      "\n",
      "--Created 4 frame.\n",
      "\n",
      "--Created 5 frame.\n",
      "\n",
      "--Created 6 frame.\n",
      "\n",
      "--Created 7 frame.\n",
      "\n",
      "--Created 8 frame.\n",
      "\n",
      "--Created 9 frame.\n",
      "\n",
      "--Created 10 frame.\n",
      "\n",
      "--Created 11 frame.\n",
      "\n",
      "--Created 12 frame.\n",
      "\n",
      "--Created 13 frame.\n",
      "\n",
      "--Created 14 frame.\n",
      "\n",
      "--Created 15 frame.\n",
      "\n",
      "--Created 16 frame.\n",
      "\n",
      "--Created 17 frame.\n",
      "\n",
      "--Created 18 frame.\n",
      "\n",
      "--Created 19 frame.\n",
      "\n",
      "--Created 20 frame.\n",
      "\n",
      "--Created 21 frame.\n",
      "\n",
      "--Created 22 frame.\n",
      "\n",
      "--Created 23 frame.\n",
      "\n",
      "--Created 24 frame.\n",
      "\n",
      "--Created 25 frame.\n",
      "\n",
      "--Created 26 frame.\n",
      "\n",
      "--Created 27 frame.\n",
      "\n",
      "--Created 28 frame.\n",
      "\n",
      "--Created 29 frame.\n",
      "\n",
      "--Created 30 frame.\n",
      "\n",
      "--Created 31 frame.\n",
      "\n",
      "--Created 32 frame.\n",
      "\n",
      "--Created 33 frame.\n",
      "\n",
      "--Created 34 frame.\n",
      "\n",
      "--Created 35 frame.\n",
      "\n",
      "--Created 36 frame.\n",
      "\n",
      "--Created 37 frame.\n",
      "\n",
      "--Created 38 frame.\n",
      "\n",
      "--Created 39 frame.\n",
      "\n",
      "--Created 40 frame.\n",
      "\n",
      "--Created 41 frame.\n",
      "\n",
      "--Created 42 frame.\n",
      "\n",
      "--Created 43 frame.\n",
      "\n",
      "--Created 44 frame.\n",
      "\n",
      "--Created 45 frame.\n",
      "\n",
      "--Created 46 frame.\n",
      "\n",
      "--Created 47 frame.\n",
      "\n",
      "--Created 48 frame.\n",
      "\n",
      "--Created 49 frame.\n",
      "\n",
      "--Created 50 frame.\n",
      "\n",
      "--Created 51 frame.\n",
      "\n",
      "--Created 52 frame.\n",
      "\n",
      "--Created 53 frame.\n",
      "\n",
      "--Created 54 frame.\n",
      "\n",
      "--Created 55 frame.\n",
      "\n",
      "--Created 56 frame.\n",
      "\n",
      "--Created 57 frame.\n",
      "\n",
      "--Created 58 frame.\n",
      "\n",
      "--Created 59 frame.\n",
      "\n",
      "--Created 60 frame.\n",
      "\n",
      "--Created 61 frame.\n",
      "\n",
      "--Created 62 frame.\n",
      "\n",
      "--Created 63 frame.\n",
      "\n",
      "--Created 64 frame.\n",
      "\n",
      "--Created 65 frame.\n",
      "\n",
      "--Created 66 frame.\n",
      "\n",
      "--Created 67 frame.\n",
      "\n",
      "--Created 68 frame.\n",
      "\n",
      "--Created 69 frame.\n",
      "\n",
      "--Created 70 frame.\n",
      "\n",
      "--Created 71 frame.\n",
      "\n",
      "--Created 72 frame.\n",
      "\n",
      "--Created 73 frame.\n",
      "\n",
      "--Created 74 frame.\n",
      "\n",
      "--Created 75 frame.\n",
      "\n",
      "--Created 76 frame.\n",
      "\n",
      "--Created 77 frame.\n",
      "\n",
      "--Created 78 frame.\n",
      "\n",
      "--Created 79 frame.\n",
      "\n",
      "--Created 80 frame.\n",
      "\n",
      "--Created 81 frame.\n",
      "\n",
      "--Created 82 frame.\n",
      "\n",
      "--Created 83 frame.\n",
      "\n",
      "--Created 84 frame.\n",
      "\n",
      "--Created 85 frame.\n",
      "\n",
      "--Created 86 frame.\n",
      "\n",
      "--Created 87 frame.\n",
      "\n",
      "--Created 88 frame.\n",
      "\n",
      "--Created 89 frame.\n",
      "\n",
      "--Created 90 frame.\n",
      "\n",
      "--Created 91 frame.\n",
      "\n",
      "--Created 92 frame.\n",
      "\n",
      "--Created 93 frame.\n",
      "\n",
      "--Created 94 frame.\n",
      "\n",
      "--Created 95 frame.\n",
      "\n",
      "--Created 96 frame.\n",
      "\n",
      "--Created 97 frame.\n",
      "\n",
      "--Created 98 frame.\n",
      "\n",
      "--Created 99 frame.\n",
      "\n",
      "Animated and saved!\n"
     ]
    }
   ],
   "source": [
    "from matplotlib import animation\n",
    "import seaborn as sns\n",
    "\n",
    "print('Animating Heatmap ...\\n')\n",
    "\n",
    "# First set up the figure, the axis, and the plot element we want to animate\n",
    "fig = plt.figure()\n",
    "ax = plt.axes(xlim=(x_0_region, x_max_region), ylim=(y_0_region, y_max_region))\n",
    "sns.heatmap(pivots[0], square = True, xticklabels = False, yticklabels = False, cbar = False)#,cbar_kws={\"fraction\": 0.046, \"pad\": 0.005})\n",
    "\n",
    "# initialization function: plot the background of each frame\n",
    "def init():\n",
    "    plt.clf()\n",
    "    ax = sns.heatmap(pivots[0], square = True, xticklabels = False, yticklabels = False, cbar = False)#,cbar_kws={\"fraction\": 0.046, \"pad\": 0.005})\n",
    "    #return heatmap,\n",
    "\n",
    "# animation function.  This is called sequentially\n",
    "def animate(it):\n",
    "    plt.clf()\n",
    "    ax = sns.heatmap(pivots[it], square = True, xticklabels = False, yticklabels = False, cbar = False)#,cbar_kws={\"fraction\": 0.046, \"pad\": 0.005})\n",
    "    ax.set_xlim((x_0_region, x_max_region))\n",
    "    ax.set_ylim((y_0_region, y_max_region))\n",
    "    print('--Created {} frame.\\n'.format(it))\n",
    "    #return heatmap\n",
    "\n",
    "# call the animator.  blit=True means only re-draw the parts that have changed.\n",
    "anim = animation.FuncAnimation(fig, animate, init_func=init,\n",
    "                               frames=100, interval=5)\n",
    "\n",
    "# save the animation as an mp4.  This requires ffmpeg or mencoder to be\n",
    "# installed.  The extra_args ensure that the x264 codec is used, so that\n",
    "# the video can be embedded in html5.  You may need to adjust this for\n",
    "# your system: for more information, see\n",
    "# http://matplotlib.sourceforge.net/api/animation_api.html\n",
    "anim.save('./Assets/heatmap_animation.mp4', fps=5) #extra_args=['-vcodec', 'libx264'])\n",
    "print('Animated and saved!')\n",
    "\n",
    "plt.close()"
   ]
  },
  {
   "cell_type": "code",
   "execution_count": 77,
   "metadata": {},
   "outputs": [
    {
     "name": "stdout",
     "output_type": "stream",
     "text": [
      "Animating particles ...\n",
      "--Created 0 frame\n",
      "--Created 0 frame\n",
      "--Created 0 frame\n",
      "--Created 1 frame\n",
      "--Created 2 frame\n",
      "--Created 3 frame\n",
      "--Created 4 frame\n",
      "--Created 5 frame\n",
      "--Created 6 frame\n",
      "--Created 7 frame\n",
      "--Created 8 frame\n",
      "--Created 9 frame\n",
      "--Created 10 frame\n",
      "--Created 11 frame\n",
      "--Created 12 frame\n",
      "--Created 13 frame\n",
      "--Created 14 frame\n",
      "--Created 15 frame\n",
      "--Created 16 frame\n",
      "--Created 17 frame\n",
      "--Created 18 frame\n",
      "--Created 19 frame\n",
      "--Created 20 frame\n",
      "--Created 21 frame\n",
      "--Created 22 frame\n",
      "--Created 23 frame\n",
      "--Created 24 frame\n",
      "--Created 25 frame\n",
      "--Created 26 frame\n",
      "--Created 27 frame\n",
      "--Created 28 frame\n",
      "--Created 29 frame\n",
      "--Created 30 frame\n",
      "--Created 31 frame\n",
      "--Created 32 frame\n",
      "--Created 33 frame\n",
      "--Created 34 frame\n",
      "--Created 35 frame\n",
      "--Created 36 frame\n",
      "--Created 37 frame\n",
      "--Created 38 frame\n",
      "--Created 39 frame\n",
      "--Created 40 frame\n",
      "--Created 41 frame\n",
      "--Created 42 frame\n",
      "--Created 43 frame\n",
      "--Created 44 frame\n",
      "--Created 45 frame\n",
      "--Created 46 frame\n",
      "--Created 47 frame\n",
      "--Created 48 frame\n",
      "--Created 49 frame\n",
      "--Created 50 frame\n",
      "--Created 51 frame\n",
      "--Created 52 frame\n",
      "--Created 53 frame\n",
      "--Created 54 frame\n",
      "--Created 55 frame\n",
      "--Created 56 frame\n",
      "--Created 57 frame\n",
      "--Created 58 frame\n",
      "--Created 59 frame\n",
      "--Created 60 frame\n",
      "--Created 61 frame\n",
      "--Created 62 frame\n",
      "--Created 63 frame\n",
      "--Created 64 frame\n",
      "--Created 65 frame\n",
      "--Created 66 frame\n",
      "--Created 67 frame\n",
      "--Created 68 frame\n",
      "--Created 69 frame\n",
      "--Created 70 frame\n",
      "--Created 71 frame\n",
      "--Created 72 frame\n",
      "--Created 73 frame\n",
      "--Created 74 frame\n",
      "--Created 75 frame\n",
      "--Created 76 frame\n",
      "--Created 77 frame\n",
      "--Created 78 frame\n",
      "--Created 79 frame\n",
      "--Created 80 frame\n",
      "--Created 81 frame\n",
      "--Created 82 frame\n",
      "--Created 83 frame\n",
      "--Created 84 frame\n",
      "--Created 85 frame\n",
      "--Created 86 frame\n",
      "--Created 87 frame\n",
      "--Created 88 frame\n",
      "--Created 89 frame\n",
      "--Created 90 frame\n",
      "--Created 91 frame\n",
      "--Created 92 frame\n",
      "--Created 93 frame\n",
      "--Created 94 frame\n",
      "--Created 95 frame\n",
      "--Created 96 frame\n",
      "--Created 97 frame\n",
      "--Created 98 frame\n",
      "--Created 99 frame\n",
      "Animated and saved!\n"
     ]
    }
   ],
   "source": [
    "from matplotlib import animation\n",
    "\n",
    "print('Animating particles ...')\n",
    "# First set up the figure, the axis, and the plot element we want to animate\n",
    "fig = plt.figure()\n",
    "ax = plt.axes(xlim=(x_0_region, x_max_region), ylim=(0, y_max_region))\n",
    "scatter, = ax.plot(particles['x0'], particles['y0'], \"o\", markersize = point_size)\n",
    "\n",
    "x = 'x'\n",
    "y = 'y'\n",
    "\n",
    "# initialization function: plot the background of each frame\n",
    "def init():\n",
    "    #quiv.set_data([], [], [], [])\n",
    "    return scatter,\n",
    "\n",
    "# animation function.  This is called sequentially\n",
    "def animate(it):\n",
    "    scatter.set_xdata(particles[x + str(it)])\n",
    "    scatter.set_ydata(particles[y + str(it)])\n",
    "    print('--Created {} frame'.format(it))\n",
    "    return scatter,\n",
    "\n",
    "# call the animator.  blit=True means only re-draw the parts that have changed.\n",
    "anim = animation.FuncAnimation(fig, animate, #init_func=init,\n",
    "                               frames=100, interval=5, blit=True)\n",
    "\n",
    "# save the animation as an mp4.  This requires ffmpeg or mencoder to be\n",
    "# installed.  The extra_args ensure that the x264 codec is used, so that\n",
    "# the video can be embedded in html5.  You may need to adjust this for\n",
    "# your system: for more information, see\n",
    "# http://matplotlib.sourceforge.net/api/animation_api.html\n",
    "anim.save('./Assets/scatterplot_animation.mp4', fps=5, extra_args=['-vcodec', 'libx264'])\n",
    "print('Animated and saved!')\n",
    "\n",
    "plt.close()"
   ]
  },
  {
   "cell_type": "markdown",
   "metadata": {},
   "source": [
    "## Quantities that should be conserved"
   ]
  },
  {
   "cell_type": "markdown",
   "metadata": {},
   "source": [
    "### Number of particles"
   ]
  },
  {
   "cell_type": "code",
   "execution_count": null,
   "metadata": {},
   "outputs": [],
   "source": [
    "num = []\n",
    "for pivot in pivots:\n",
    "    num.append(pivot.values.sum())\n",
    "print(num)"
   ]
  },
  {
   "cell_type": "markdown",
   "metadata": {},
   "source": [
    "### Energy"
   ]
  },
  {
   "cell_type": "markdown",
   "metadata": {},
   "source": [
    "The collision step of the MPCD algorithm conserves energy _locally_, which is to say on a cell level. [@winkl2009] The energy should also be conserved globally, since no force is acting upon the particles _yet_, and the streaming and collision steps conserve energy, and the particle number remains the same.\n",
    "\n"
   ]
  },
  {
   "cell_type": "code",
   "execution_count": null,
   "metadata": {},
   "outputs": [],
   "source": [
    "_change this_\n",
    "To inspect this, the mean velocity of cells\n",
    "\n",
    "\\begin{equation}\n",
    "V_i = V_t,\n",
    "\\end{equation}\n",
    "\n",
    "where $V_i$ is the sum of all initial velocities, and $V_t$ is the sum of all velocities at timestep $t$, of all particles. Since $V_c$, the mean cell velocity, is already needed, we can simply sum them up and divide by the number of cells."
   ]
  },
  {
   "cell_type": "markdown",
   "metadata": {},
   "source": [
    "To inspect this, the total momentum $\\vbar P \\vbar$ is plotted as a function of timestep $t$ in figure (TODO: figures)."
   ]
  },
  {
   "cell_type": "code",
   "execution_count": null,
   "metadata": {},
   "outputs": [],
   "source": [
    "import seaborn as sns\n",
    "import pandas as pd\n",
    "\n",
    "\n",
    "print(U[0])"
   ]
  },
  {
   "cell_type": "markdown",
   "metadata": {},
   "source": [
    "### Conservation of energy"
   ]
  },
  {
   "cell_type": "markdown",
   "metadata": {},
   "source": [
    "Because no forces act on the particles, and they all have the same mass, conservation of energy takes the form\n",
    "\n",
    "\\begin{equation}\n",
    "\\sum_{j=0}^{N} \\vect{v_{ij}}^{2} = \\sum_{j=0}^{N} \\vect{v_{tj}}^{2},\n",
    "\\end{equation}\n",
    "\n",
    "where $i$ shall mean _initial_ and $t$ shall mean _timestep t_."
   ]
  },
  {
   "cell_type": "markdown",
   "metadata": {},
   "source": [
    "To inspect this, the total energy is plotted as a function of timestep $t$ in figure (TODO: figures)."
   ]
  },
  {
   "cell_type": "code",
   "execution_count": null,
   "metadata": {},
   "outputs": [],
   "source": [
    "import seaborn as sns\n",
    "import pandas as pd\n",
    "\n",
    "print(U[0])"
   ]
  },
  {
   "cell_type": "code",
   "execution_count": null,
   "metadata": {},
   "outputs": [],
   "source": [
    "import numpy as np\n",
    "\n",
    "w = 3\n",
    "Y, X = np.mgrid[-w:w:100j, -w:w:100j]\n",
    "U = -1 - X**2 + Y\n",
    "V = 1 + X - Y**2\n",
    "speed = np.sqrt(U**2 + V**2)\n",
    "\n",
    "fig = plt.figure(figsize=(7, 9))\n",
    "gs = gridspec.GridSpec(nrows=1, ncols=1)\n",
    "\n",
    "#  Varying density along a streamline\n",
    "ax0 = fig.add_subplot(gs[0, 0])\n",
    "ax0.streamplot(X, Y, vx_evolution, vy_evolution, density=[0.5, 1])\n",
    "ax0.set_title('Varying Density')"
   ]
  },
  {
   "cell_type": "code",
   "execution_count": null,
   "metadata": {},
   "outputs": [],
   "source": []
  },
  {
   "cell_type": "code",
   "execution_count": null,
   "metadata": {},
   "outputs": [],
   "source": [
    "vx_evolution.sum(axis = 0)"
   ]
  },
  {
   "cell_type": "code",
   "execution_count": null,
   "metadata": {},
   "outputs": [],
   "source": [
    "vy_evolution.sum(axis = 0)"
   ]
  },
  {
   "cell_type": "markdown",
   "metadata": {},
   "source": [
    "## Optimizing the algorithm"
   ]
  },
  {
   "cell_type": "markdown",
   "metadata": {},
   "source": [
    "To optimize the runtime of the simulation, the code was analyzed for CPU & memory usage. Several areas were identified that needed improvement. In the end, the streaming and collision step are now performed in parallel, with the performance of the latter being very satisfying. The performance of the streaming step however could not be optimized much further. The problem is storage shared between threads, which means, to prevent errors and undefinable behavior, the program can't make full use of parallelization. It was tried to split this shared storage and later recombine, but this was to no avail. Ultimately, a lot of time was spent on this but unfortunately, the intricacies of C++ made this seem impossible.\n",
    "\n",
    "The reason a lot of time was spent on this particular step is to make possible a larger simulation, i.e. larger number of particles."
   ]
  },
  {
   "cell_type": "markdown",
   "metadata": {},
   "source": [
    "The velocity of a particle updates according to\n",
    "\\begin{equation}\n",
    "\\vect{v_{i}} \\rightarrow \\vect{V_c} + \\matr{R}(\\alpha)[\\vect{v_i} - \\vect{V_c}],\n",
    "\\end{equation}\n",
    "\n",
    "where $\\vect{v_{i}}$ is the velocity of the $i-th$ particle, $\\vect{V_c}$ is the mean velocity of all particles belonging to cell $c$, specified by $i$'s position. The matrix\n",
    "\n",
    "$$\n",
    "R(\\alpha) = \n",
    "\\left[ \\begin{array}{rr}\n",
    "cos(\\alpha) & -sin(\\alpha) \\\\\n",
    "sin(\\alpha) & cos(\\alpha) \\\\\n",
    "\\end{array}\\right]\n",
    "$$\n",
    "\n",
    "is a simple 2d-rotation matrix. The angle $\\alpha$ is uniformly sampled from the interval $[0, 2\\pi)$ on a per-cell basis.[@malev1999]"
   ]
  },
  {
   "cell_type": "markdown",
   "metadata": {},
   "source": [
    "<!--"
   ]
  },
  {
   "cell_type": "markdown",
   "metadata": {},
   "source": [
    "CONSIDER THIS. SHOULD BECOME MAXWELL WHEN IMPLEMENTING COLLISION STEP TOO\n",
    "After having implemented the streaming step and that other one: after time driftting, looks like this: (+velocity distribution = maxwell?)"
   ]
  },
  {
   "cell_type": "markdown",
   "metadata": {},
   "source": [
    "### some equations to copy"
   ]
  },
  {
   "cell_type": "markdown",
   "metadata": {},
   "source": [
    "$$\n",
    "r(t + \\Delta t) = r(t) + \\Delta t \\cdot v(t)\n",
    "$$"
   ]
  },
  {
   "cell_type": "markdown",
   "metadata": {},
   "source": [
    "## Converting to Word doc (others possible too, f.ex. .tex)"
   ]
  },
  {
   "cell_type": "code",
   "execution_count": null,
   "metadata": {},
   "outputs": [],
   "source": [
    "# just do it manually, it works on anaconda env datascience\n",
    "\n",
    "import subprocess\n",
    "#automatic document conversion to markdown and then to word\n",
    "#first convert the ipython notebook paper.ipynb to markdown\n",
    "subprocess.run(\"jupyter nbconvert --to markdown thesis.ipynb --output-dir='./Generated'\") #--output-dir='./Generated'\n",
    "#next remove code\n",
    "path = \"./Generated/thesis.md\"\n",
    "with open(path, \"r\") as f:\n",
    "    lines = f.readlines()\n",
    "    idx = []\n",
    "    idx_files = []\n",
    "    for i, line in enumerate(lines):\n",
    "        if (line.startswith(\"```\")):\n",
    "            idx.append(i)\n",
    "        if (\"thesis_files\" in line):\n",
    "            c = line.find(\"thesis_files\")\n",
    "            lines[i] = line[0:c] + \"\" + line[c:]\n",
    "\n",
    "idx = sorted(idx, reverse=True) # reverse order so not deleting lines and then missing others\n",
    "for current, previous in zip(idx[::2], idx[1::2]):\n",
    "    print(\"Deleting {p}:{c}\".format(p=previous, c=current+1))\n",
    "    print('\\n'.join(lines[previous:current+1]))\n",
    "    del lines[previous:current+1]\n",
    "    \n",
    "with open(path, \"w\") as f:\n",
    "    #f.write(\"\\\\newcommand{\\matr}[1]\\\\textbf{#1}\")\n",
    "    #f.write(\"\\\\newcommand{\\\\vect}[1]{\\\\vec{#1}}\")\n",
    "    for line in lines:\n",
    "        f.write(\"%s\" % line)\n",
    "#next convert markdown to ms word\n",
    "conversion_tex = \"pandoc -s ./Generated/thesis.md -o ./Generated/thesis.tex --filter pandoc-citeproc --bibliography=\\\"list.bib\\\" --csl=\\\"apa.csl\\\"\"\n",
    "subprocess.run(conversion_tex)\n",
    "conversion_pdf = \"pandoc -s ./Generated/thesis.md -o ./Generated/thesis.pdf --filter pandoc-citeproc --bibliography=\\\"list.bib\\\" --csl=\\\"apa.csl\\\"\"\n",
    "subprocess.run(conversion_pdf)\n",
    "# LATEX TO DOCX pandoc -s math.tex -o example30.docx"
   ]
  },
  {
   "cell_type": "markdown",
   "metadata": {},
   "source": [
    "## Equation Numbering jupyter extension\n",
    "conda install -c conda-forge jupyter_contrib_nbextensions\n",
    "\n",
    "jupyter contrib nbextension install --user\n",
    "\n",
    "jupyter nbextension enable equation-numbering/main"
   ]
  },
  {
   "cell_type": "markdown",
   "metadata": {},
   "source": [
    "### Turn equation numbering on/off"
   ]
  },
  {
   "cell_type": "code",
   "execution_count": null,
   "metadata": {},
   "outputs": [],
   "source": [
    "%%javascript\n",
    "MathJax.Hub.Config({\n",
    "    TeX: { equationNumbers: { autoNumber: \"AMS\" } }\n",
    "});"
   ]
  },
  {
   "cell_type": "markdown",
   "metadata": {},
   "source": [
    "### Renumber equations"
   ]
  },
  {
   "cell_type": "code",
   "execution_count": null,
   "metadata": {},
   "outputs": [],
   "source": [
    "%%javascript\n",
    "MathJax.Hub.Queue(\n",
    "  [\"resetEquationNumbers\", MathJax.InputJax.TeX],\n",
    "  [\"PreProcess\", MathJax.Hub],\n",
    "  [\"Reprocess\", MathJax.Hub]\n",
    ");"
   ]
  },
  {
   "cell_type": "markdown",
   "metadata": {},
   "source": [
    "-->"
   ]
  }
 ],
 "metadata": {
  "kernelspec": {
   "display_name": "datascience",
   "language": "python",
   "name": "datascience"
  },
  "language_info": {
   "codemirror_mode": {
    "name": "ipython",
    "version": 3
   },
   "file_extension": ".py",
   "mimetype": "text/x-python",
   "name": "python",
   "nbconvert_exporter": "python",
   "pygments_lexer": "ipython3",
   "version": "3.8.3"
  }
 },
 "nbformat": 4,
 "nbformat_minor": 4
}
